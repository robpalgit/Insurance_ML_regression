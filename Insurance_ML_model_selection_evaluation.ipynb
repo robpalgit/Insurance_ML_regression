{
 "cells": [
  {
   "cell_type": "code",
   "execution_count": 1,
   "metadata": {},
   "outputs": [],
   "source": [
    "import pandas as pd\n",
    "import numpy as np"
   ]
  },
  {
   "cell_type": "code",
   "execution_count": 2,
   "metadata": {},
   "outputs": [],
   "source": [
    "from sklearn.model_selection import train_test_split, cross_val_score, GridSearchCV\n",
    "from sklearn.preprocessing import StandardScaler\n",
    "\n",
    "from sklearn.linear_model import LinearRegression\n",
    "from sklearn.neural_network import MLPRegressor\n",
    "from sklearn.tree import DecisionTreeRegressor\n",
    "from sklearn.ensemble import RandomForestRegressor, GradientBoostingRegressor\n",
    "\n",
    "from sklearn.metrics import r2_score, mean_absolute_error, median_absolute_error"
   ]
  },
  {
   "cell_type": "code",
   "execution_count": 3,
   "metadata": {},
   "outputs": [],
   "source": [
    "from time import time"
   ]
  },
  {
   "cell_type": "markdown",
   "metadata": {},
   "source": [
    "## Load dataset"
   ]
  },
  {
   "cell_type": "code",
   "execution_count": 4,
   "metadata": {},
   "outputs": [
    {
     "data": {
      "text/html": [
       "<div>\n",
       "<style scoped>\n",
       "    .dataframe tbody tr th:only-of-type {\n",
       "        vertical-align: middle;\n",
       "    }\n",
       "\n",
       "    .dataframe tbody tr th {\n",
       "        vertical-align: top;\n",
       "    }\n",
       "\n",
       "    .dataframe thead th {\n",
       "        text-align: right;\n",
       "    }\n",
       "</style>\n",
       "<table border=\"1\" class=\"dataframe\">\n",
       "  <thead>\n",
       "    <tr style=\"text-align: right;\">\n",
       "      <th></th>\n",
       "      <th>age</th>\n",
       "      <th>sex</th>\n",
       "      <th>bmi</th>\n",
       "      <th>children</th>\n",
       "      <th>smoker</th>\n",
       "      <th>region</th>\n",
       "      <th>charges</th>\n",
       "    </tr>\n",
       "  </thead>\n",
       "  <tbody>\n",
       "    <tr>\n",
       "      <th>0</th>\n",
       "      <td>19</td>\n",
       "      <td>female</td>\n",
       "      <td>27.900</td>\n",
       "      <td>0</td>\n",
       "      <td>yes</td>\n",
       "      <td>southwest</td>\n",
       "      <td>16884.92400</td>\n",
       "    </tr>\n",
       "    <tr>\n",
       "      <th>1</th>\n",
       "      <td>18</td>\n",
       "      <td>male</td>\n",
       "      <td>33.770</td>\n",
       "      <td>1</td>\n",
       "      <td>no</td>\n",
       "      <td>southeast</td>\n",
       "      <td>1725.55230</td>\n",
       "    </tr>\n",
       "    <tr>\n",
       "      <th>2</th>\n",
       "      <td>28</td>\n",
       "      <td>male</td>\n",
       "      <td>33.000</td>\n",
       "      <td>3</td>\n",
       "      <td>no</td>\n",
       "      <td>southeast</td>\n",
       "      <td>4449.46200</td>\n",
       "    </tr>\n",
       "    <tr>\n",
       "      <th>3</th>\n",
       "      <td>33</td>\n",
       "      <td>male</td>\n",
       "      <td>22.705</td>\n",
       "      <td>0</td>\n",
       "      <td>no</td>\n",
       "      <td>northwest</td>\n",
       "      <td>21984.47061</td>\n",
       "    </tr>\n",
       "    <tr>\n",
       "      <th>4</th>\n",
       "      <td>32</td>\n",
       "      <td>male</td>\n",
       "      <td>28.880</td>\n",
       "      <td>0</td>\n",
       "      <td>no</td>\n",
       "      <td>northwest</td>\n",
       "      <td>3866.85520</td>\n",
       "    </tr>\n",
       "  </tbody>\n",
       "</table>\n",
       "</div>"
      ],
      "text/plain": [
       "   age     sex     bmi  children smoker     region      charges\n",
       "0   19  female  27.900         0    yes  southwest  16884.92400\n",
       "1   18    male  33.770         1     no  southeast   1725.55230\n",
       "2   28    male  33.000         3     no  southeast   4449.46200\n",
       "3   33    male  22.705         0     no  northwest  21984.47061\n",
       "4   32    male  28.880         0     no  northwest   3866.85520"
      ]
     },
     "execution_count": 4,
     "metadata": {},
     "output_type": "execute_result"
    }
   ],
   "source": [
    "df = pd.read_csv(\"insurance.csv\")\n",
    "df.head()"
   ]
  },
  {
   "cell_type": "code",
   "execution_count": 5,
   "metadata": {},
   "outputs": [
    {
     "name": "stdout",
     "output_type": "stream",
     "text": [
      "<class 'pandas.core.frame.DataFrame'>\n",
      "RangeIndex: 1338 entries, 0 to 1337\n",
      "Data columns (total 7 columns):\n",
      "age         1338 non-null int64\n",
      "sex         1338 non-null object\n",
      "bmi         1333 non-null float64\n",
      "children    1338 non-null int64\n",
      "smoker      1338 non-null object\n",
      "region      1338 non-null object\n",
      "charges     1338 non-null float64\n",
      "dtypes: float64(2), int64(2), object(3)\n",
      "memory usage: 73.2+ KB\n"
     ]
    }
   ],
   "source": [
    "df.info()"
   ]
  },
  {
   "cell_type": "code",
   "execution_count": 6,
   "metadata": {},
   "outputs": [
    {
     "data": {
      "text/plain": [
       "age         0\n",
       "sex         0\n",
       "bmi         5\n",
       "children    0\n",
       "smoker      0\n",
       "region      0\n",
       "charges     0\n",
       "dtype: int64"
      ]
     },
     "execution_count": 6,
     "metadata": {},
     "output_type": "execute_result"
    }
   ],
   "source": [
    "df.isnull().sum()"
   ]
  },
  {
   "cell_type": "code",
   "execution_count": 7,
   "metadata": {},
   "outputs": [
    {
     "data": {
      "text/plain": [
       "age           47\n",
       "sex            2\n",
       "bmi          548\n",
       "children       6\n",
       "smoker         2\n",
       "region         4\n",
       "charges     1337\n",
       "dtype: int64"
      ]
     },
     "execution_count": 7,
     "metadata": {},
     "output_type": "execute_result"
    }
   ],
   "source": [
    "df.nunique()"
   ]
  },
  {
   "cell_type": "code",
   "execution_count": 8,
   "metadata": {},
   "outputs": [
    {
     "data": {
      "text/html": [
       "<div>\n",
       "<style scoped>\n",
       "    .dataframe tbody tr th:only-of-type {\n",
       "        vertical-align: middle;\n",
       "    }\n",
       "\n",
       "    .dataframe tbody tr th {\n",
       "        vertical-align: top;\n",
       "    }\n",
       "\n",
       "    .dataframe thead th {\n",
       "        text-align: right;\n",
       "    }\n",
       "</style>\n",
       "<table border=\"1\" class=\"dataframe\">\n",
       "  <thead>\n",
       "    <tr style=\"text-align: right;\">\n",
       "      <th></th>\n",
       "      <th>age</th>\n",
       "      <th>sex</th>\n",
       "      <th>bmi</th>\n",
       "      <th>children</th>\n",
       "      <th>smoker</th>\n",
       "      <th>region</th>\n",
       "      <th>charges</th>\n",
       "    </tr>\n",
       "  </thead>\n",
       "  <tbody>\n",
       "    <tr>\n",
       "      <th>count</th>\n",
       "      <td>1338.000000</td>\n",
       "      <td>1338</td>\n",
       "      <td>1333.000000</td>\n",
       "      <td>1338.000000</td>\n",
       "      <td>1338</td>\n",
       "      <td>1338</td>\n",
       "      <td>1338.000000</td>\n",
       "    </tr>\n",
       "    <tr>\n",
       "      <th>unique</th>\n",
       "      <td>NaN</td>\n",
       "      <td>2</td>\n",
       "      <td>NaN</td>\n",
       "      <td>NaN</td>\n",
       "      <td>2</td>\n",
       "      <td>4</td>\n",
       "      <td>NaN</td>\n",
       "    </tr>\n",
       "    <tr>\n",
       "      <th>top</th>\n",
       "      <td>NaN</td>\n",
       "      <td>male</td>\n",
       "      <td>NaN</td>\n",
       "      <td>NaN</td>\n",
       "      <td>no</td>\n",
       "      <td>southeast</td>\n",
       "      <td>NaN</td>\n",
       "    </tr>\n",
       "    <tr>\n",
       "      <th>freq</th>\n",
       "      <td>NaN</td>\n",
       "      <td>676</td>\n",
       "      <td>NaN</td>\n",
       "      <td>NaN</td>\n",
       "      <td>1064</td>\n",
       "      <td>364</td>\n",
       "      <td>NaN</td>\n",
       "    </tr>\n",
       "    <tr>\n",
       "      <th>mean</th>\n",
       "      <td>39.207025</td>\n",
       "      <td>NaN</td>\n",
       "      <td>30.658545</td>\n",
       "      <td>1.094918</td>\n",
       "      <td>NaN</td>\n",
       "      <td>NaN</td>\n",
       "      <td>13270.422265</td>\n",
       "    </tr>\n",
       "    <tr>\n",
       "      <th>std</th>\n",
       "      <td>14.049960</td>\n",
       "      <td>NaN</td>\n",
       "      <td>6.092785</td>\n",
       "      <td>1.205493</td>\n",
       "      <td>NaN</td>\n",
       "      <td>NaN</td>\n",
       "      <td>12110.011237</td>\n",
       "    </tr>\n",
       "    <tr>\n",
       "      <th>min</th>\n",
       "      <td>18.000000</td>\n",
       "      <td>NaN</td>\n",
       "      <td>15.960000</td>\n",
       "      <td>0.000000</td>\n",
       "      <td>NaN</td>\n",
       "      <td>NaN</td>\n",
       "      <td>1121.873900</td>\n",
       "    </tr>\n",
       "    <tr>\n",
       "      <th>25%</th>\n",
       "      <td>27.000000</td>\n",
       "      <td>NaN</td>\n",
       "      <td>26.315000</td>\n",
       "      <td>0.000000</td>\n",
       "      <td>NaN</td>\n",
       "      <td>NaN</td>\n",
       "      <td>4740.287150</td>\n",
       "    </tr>\n",
       "    <tr>\n",
       "      <th>50%</th>\n",
       "      <td>39.000000</td>\n",
       "      <td>NaN</td>\n",
       "      <td>30.400000</td>\n",
       "      <td>1.000000</td>\n",
       "      <td>NaN</td>\n",
       "      <td>NaN</td>\n",
       "      <td>9382.033000</td>\n",
       "    </tr>\n",
       "    <tr>\n",
       "      <th>75%</th>\n",
       "      <td>51.000000</td>\n",
       "      <td>NaN</td>\n",
       "      <td>34.675000</td>\n",
       "      <td>2.000000</td>\n",
       "      <td>NaN</td>\n",
       "      <td>NaN</td>\n",
       "      <td>16639.912515</td>\n",
       "    </tr>\n",
       "    <tr>\n",
       "      <th>max</th>\n",
       "      <td>64.000000</td>\n",
       "      <td>NaN</td>\n",
       "      <td>53.130000</td>\n",
       "      <td>5.000000</td>\n",
       "      <td>NaN</td>\n",
       "      <td>NaN</td>\n",
       "      <td>63770.428010</td>\n",
       "    </tr>\n",
       "  </tbody>\n",
       "</table>\n",
       "</div>"
      ],
      "text/plain": [
       "                age   sex          bmi     children smoker     region  \\\n",
       "count   1338.000000  1338  1333.000000  1338.000000   1338       1338   \n",
       "unique          NaN     2          NaN          NaN      2          4   \n",
       "top             NaN  male          NaN          NaN     no  southeast   \n",
       "freq            NaN   676          NaN          NaN   1064        364   \n",
       "mean      39.207025   NaN    30.658545     1.094918    NaN        NaN   \n",
       "std       14.049960   NaN     6.092785     1.205493    NaN        NaN   \n",
       "min       18.000000   NaN    15.960000     0.000000    NaN        NaN   \n",
       "25%       27.000000   NaN    26.315000     0.000000    NaN        NaN   \n",
       "50%       39.000000   NaN    30.400000     1.000000    NaN        NaN   \n",
       "75%       51.000000   NaN    34.675000     2.000000    NaN        NaN   \n",
       "max       64.000000   NaN    53.130000     5.000000    NaN        NaN   \n",
       "\n",
       "             charges  \n",
       "count    1338.000000  \n",
       "unique           NaN  \n",
       "top              NaN  \n",
       "freq             NaN  \n",
       "mean    13270.422265  \n",
       "std     12110.011237  \n",
       "min      1121.873900  \n",
       "25%      4740.287150  \n",
       "50%      9382.033000  \n",
       "75%     16639.912515  \n",
       "max     63770.428010  "
      ]
     },
     "execution_count": 8,
     "metadata": {},
     "output_type": "execute_result"
    }
   ],
   "source": [
    "df.describe(include='all')"
   ]
  },
  {
   "cell_type": "markdown",
   "metadata": {},
   "source": [
    "## Data preparation"
   ]
  },
  {
   "cell_type": "code",
   "execution_count": 9,
   "metadata": {},
   "outputs": [
    {
     "data": {
      "text/html": [
       "<div>\n",
       "<style scoped>\n",
       "    .dataframe tbody tr th:only-of-type {\n",
       "        vertical-align: middle;\n",
       "    }\n",
       "\n",
       "    .dataframe tbody tr th {\n",
       "        vertical-align: top;\n",
       "    }\n",
       "\n",
       "    .dataframe thead th {\n",
       "        text-align: right;\n",
       "    }\n",
       "</style>\n",
       "<table border=\"1\" class=\"dataframe\">\n",
       "  <thead>\n",
       "    <tr style=\"text-align: right;\">\n",
       "      <th></th>\n",
       "      <th>age</th>\n",
       "      <th>sex</th>\n",
       "      <th>bmi</th>\n",
       "      <th>children</th>\n",
       "      <th>smoker</th>\n",
       "      <th>charges</th>\n",
       "      <th>region_northeast</th>\n",
       "      <th>region_northwest</th>\n",
       "      <th>region_southeast</th>\n",
       "      <th>region_southwest</th>\n",
       "    </tr>\n",
       "  </thead>\n",
       "  <tbody>\n",
       "    <tr>\n",
       "      <th>0</th>\n",
       "      <td>19</td>\n",
       "      <td>0</td>\n",
       "      <td>27.900</td>\n",
       "      <td>0</td>\n",
       "      <td>1</td>\n",
       "      <td>16884.92400</td>\n",
       "      <td>0</td>\n",
       "      <td>0</td>\n",
       "      <td>0</td>\n",
       "      <td>1</td>\n",
       "    </tr>\n",
       "    <tr>\n",
       "      <th>1</th>\n",
       "      <td>18</td>\n",
       "      <td>1</td>\n",
       "      <td>33.770</td>\n",
       "      <td>1</td>\n",
       "      <td>0</td>\n",
       "      <td>1725.55230</td>\n",
       "      <td>0</td>\n",
       "      <td>0</td>\n",
       "      <td>1</td>\n",
       "      <td>0</td>\n",
       "    </tr>\n",
       "    <tr>\n",
       "      <th>2</th>\n",
       "      <td>28</td>\n",
       "      <td>1</td>\n",
       "      <td>33.000</td>\n",
       "      <td>3</td>\n",
       "      <td>0</td>\n",
       "      <td>4449.46200</td>\n",
       "      <td>0</td>\n",
       "      <td>0</td>\n",
       "      <td>1</td>\n",
       "      <td>0</td>\n",
       "    </tr>\n",
       "    <tr>\n",
       "      <th>3</th>\n",
       "      <td>33</td>\n",
       "      <td>1</td>\n",
       "      <td>22.705</td>\n",
       "      <td>0</td>\n",
       "      <td>0</td>\n",
       "      <td>21984.47061</td>\n",
       "      <td>0</td>\n",
       "      <td>1</td>\n",
       "      <td>0</td>\n",
       "      <td>0</td>\n",
       "    </tr>\n",
       "    <tr>\n",
       "      <th>4</th>\n",
       "      <td>32</td>\n",
       "      <td>1</td>\n",
       "      <td>28.880</td>\n",
       "      <td>0</td>\n",
       "      <td>0</td>\n",
       "      <td>3866.85520</td>\n",
       "      <td>0</td>\n",
       "      <td>1</td>\n",
       "      <td>0</td>\n",
       "      <td>0</td>\n",
       "    </tr>\n",
       "  </tbody>\n",
       "</table>\n",
       "</div>"
      ],
      "text/plain": [
       "   age  sex     bmi  children  smoker      charges  region_northeast  \\\n",
       "0   19    0  27.900         0       1  16884.92400                 0   \n",
       "1   18    1  33.770         1       0   1725.55230                 0   \n",
       "2   28    1  33.000         3       0   4449.46200                 0   \n",
       "3   33    1  22.705         0       0  21984.47061                 0   \n",
       "4   32    1  28.880         0       0   3866.85520                 0   \n",
       "\n",
       "   region_northwest  region_southeast  region_southwest  \n",
       "0                 0                 0                 1  \n",
       "1                 0                 1                 0  \n",
       "2                 0                 1                 0  \n",
       "3                 1                 0                 0  \n",
       "4                 1                 0                 0  "
      ]
     },
     "execution_count": 9,
     "metadata": {},
     "output_type": "execute_result"
    }
   ],
   "source": [
    "df.dropna(inplace=True)\n",
    "df.reset_index(drop=True, inplace=True)\n",
    "\n",
    "gender_num = {'female': 0, 'male': 1}\n",
    "df['sex'] = df['sex'].map(gender_num)\n",
    "\n",
    "smoker_num = {'no': 0, 'yes': 1}\n",
    "df['smoker'] = df['smoker'].map(smoker_num)\n",
    "\n",
    "df = pd.get_dummies(df, columns=['region'], prefix='region')\n",
    "\n",
    "df.head()"
   ]
  },
  {
   "cell_type": "markdown",
   "metadata": {},
   "source": [
    "## Train / Validation / Test data split"
   ]
  },
  {
   "cell_type": "code",
   "execution_count": 10,
   "metadata": {},
   "outputs": [
    {
     "name": "stdout",
     "output_type": "stream",
     "text": [
      "0.6\n",
      "0.2\n",
      "0.2\n"
     ]
    }
   ],
   "source": [
    "features = df.drop('charges', axis=1)\n",
    "target = df['charges']\n",
    "\n",
    "X_train, X_test, y_train, y_test = train_test_split(features, target, test_size=0.4, random_state=42)\n",
    "X_val, X_test, y_val, y_test = train_test_split(X_test, y_test, test_size=0.5, random_state=42)\n",
    "\n",
    "for dataset in [y_train, y_val, y_test]:\n",
    "    print(round(len(dataset) / len(target), 2))"
   ]
  },
  {
   "cell_type": "markdown",
   "metadata": {},
   "source": [
    "## Standardization of features"
   ]
  },
  {
   "cell_type": "code",
   "execution_count": 11,
   "metadata": {},
   "outputs": [],
   "source": [
    "sc = StandardScaler()\n",
    "X_train = sc.fit_transform(X_train.astype(np.float))\n",
    "X_val = sc.transform(X_val.astype(np.float))\n",
    "X_test = sc.transform(X_test.astype(np.float))"
   ]
  },
  {
   "cell_type": "markdown",
   "metadata": {},
   "source": [
    "## Model training and evaluation"
   ]
  },
  {
   "cell_type": "markdown",
   "metadata": {},
   "source": [
    "### Model 1: Linear Regression"
   ]
  },
  {
   "cell_type": "code",
   "execution_count": 12,
   "metadata": {},
   "outputs": [
    {
     "data": {
      "text/plain": [
       "0.7483"
      ]
     },
     "execution_count": 12,
     "metadata": {},
     "output_type": "execute_result"
    }
   ],
   "source": [
    "LR = LinearRegression()\n",
    "LR = LR.fit(X_train, y_train)\n",
    "round(LR.score(X_train, y_train), 4)"
   ]
  },
  {
   "cell_type": "code",
   "execution_count": 13,
   "metadata": {},
   "outputs": [
    {
     "name": "stdout",
     "output_type": "stream",
     "text": [
      "0.7359\n"
     ]
    }
   ],
   "source": [
    "scores = cross_val_score(LR, X_train, y_train.values.ravel(), cv=5)\n",
    "print(round(scores.mean(), 4))"
   ]
  },
  {
   "cell_type": "code",
   "execution_count": 14,
   "metadata": {},
   "outputs": [
    {
     "data": {
      "text/plain": [
       "LinearRegression(copy_X=True, fit_intercept=True, n_jobs=None, normalize=False)"
      ]
     },
     "execution_count": 14,
     "metadata": {},
     "output_type": "execute_result"
    }
   ],
   "source": [
    "LR"
   ]
  },
  {
   "cell_type": "markdown",
   "metadata": {},
   "source": [
    "### Using GridSearchCV"
   ]
  },
  {
   "cell_type": "code",
   "execution_count": 15,
   "metadata": {},
   "outputs": [],
   "source": [
    "def print_best_score(hp_optimizer):\n",
    "    print('BEST SCORE: {} - PARAMS: {}\\n'.format(round(hp_optimizer.best_score_, 3), hp_optimizer.best_params_))\n",
    "\n",
    "    means = hp_optimizer.cv_results_['mean_test_score']\n",
    "    stds = hp_optimizer.cv_results_['std_test_score']\n",
    "    for mean, std, params in zip(means, stds, hp_optimizer.cv_results_['params']):\n",
    "        print('Score: {} (+/-{}) for Params: {}'.format(round(mean, 4), round(std * 2, 4), params))"
   ]
  },
  {
   "cell_type": "markdown",
   "metadata": {},
   "source": [
    "### Model 2: Multilayer Perceptron"
   ]
  },
  {
   "cell_type": "code",
   "execution_count": 16,
   "metadata": {},
   "outputs": [
    {
     "name": "stdout",
     "output_type": "stream",
     "text": [
      "BEST SCORE: 0.808 - PARAMS: {'activation': 'relu', 'hidden_layer_sizes': (10,), 'learning_rate': 'constant'}\n",
      "\n",
      "Score: 0.8083 (+/-0.0558) for Params: {'activation': 'relu', 'hidden_layer_sizes': (10,), 'learning_rate': 'constant'}\n",
      "Score: 0.8062 (+/-0.0361) for Params: {'activation': 'relu', 'hidden_layer_sizes': (10,), 'learning_rate': 'invscaling'}\n",
      "Score: 0.8068 (+/-0.0317) for Params: {'activation': 'relu', 'hidden_layer_sizes': (10,), 'learning_rate': 'adaptive'}\n",
      "Score: 0.7919 (+/-0.035) for Params: {'activation': 'relu', 'hidden_layer_sizes': (20,), 'learning_rate': 'constant'}\n",
      "Score: 0.7952 (+/-0.0448) for Params: {'activation': 'relu', 'hidden_layer_sizes': (20,), 'learning_rate': 'invscaling'}\n",
      "Score: 0.7823 (+/-0.0643) for Params: {'activation': 'relu', 'hidden_layer_sizes': (20,), 'learning_rate': 'adaptive'}\n",
      "Score: 0.761 (+/-0.034) for Params: {'activation': 'relu', 'hidden_layer_sizes': (30,), 'learning_rate': 'constant'}\n",
      "Score: 0.7819 (+/-0.0493) for Params: {'activation': 'relu', 'hidden_layer_sizes': (30,), 'learning_rate': 'invscaling'}\n",
      "Score: 0.7626 (+/-0.0614) for Params: {'activation': 'relu', 'hidden_layer_sizes': (30,), 'learning_rate': 'adaptive'}\n",
      "Score: 0.7368 (+/-0.0363) for Params: {'activation': 'relu', 'hidden_layer_sizes': (40,), 'learning_rate': 'constant'}\n",
      "Score: 0.7519 (+/-0.0364) for Params: {'activation': 'relu', 'hidden_layer_sizes': (40,), 'learning_rate': 'invscaling'}\n",
      "Score: 0.773 (+/-0.0319) for Params: {'activation': 'relu', 'hidden_layer_sizes': (40,), 'learning_rate': 'adaptive'}\n",
      "Score: 0.7313 (+/-0.0377) for Params: {'activation': 'relu', 'hidden_layer_sizes': (50,), 'learning_rate': 'constant'}\n",
      "Score: 0.7394 (+/-0.046) for Params: {'activation': 'relu', 'hidden_layer_sizes': (50,), 'learning_rate': 'invscaling'}\n",
      "Score: 0.7404 (+/-0.0401) for Params: {'activation': 'relu', 'hidden_layer_sizes': (50,), 'learning_rate': 'adaptive'}\n",
      "Score: 0.3868 (+/-0.2683) for Params: {'activation': 'tanh', 'hidden_layer_sizes': (10,), 'learning_rate': 'constant'}\n",
      "Score: 0.3558 (+/-0.2237) for Params: {'activation': 'tanh', 'hidden_layer_sizes': (10,), 'learning_rate': 'invscaling'}\n",
      "Score: 0.4681 (+/-0.1822) for Params: {'activation': 'tanh', 'hidden_layer_sizes': (10,), 'learning_rate': 'adaptive'}\n",
      "Score: 0.5483 (+/-0.1327) for Params: {'activation': 'tanh', 'hidden_layer_sizes': (20,), 'learning_rate': 'constant'}\n",
      "Score: 0.5562 (+/-0.157) for Params: {'activation': 'tanh', 'hidden_layer_sizes': (20,), 'learning_rate': 'invscaling'}\n",
      "Score: 0.5317 (+/-0.1336) for Params: {'activation': 'tanh', 'hidden_layer_sizes': (20,), 'learning_rate': 'adaptive'}\n",
      "Score: 0.5939 (+/-0.1092) for Params: {'activation': 'tanh', 'hidden_layer_sizes': (30,), 'learning_rate': 'constant'}\n",
      "Score: 0.573 (+/-0.0811) for Params: {'activation': 'tanh', 'hidden_layer_sizes': (30,), 'learning_rate': 'invscaling'}\n",
      "Score: 0.5393 (+/-0.1801) for Params: {'activation': 'tanh', 'hidden_layer_sizes': (30,), 'learning_rate': 'adaptive'}\n",
      "Score: 0.6129 (+/-0.0442) for Params: {'activation': 'tanh', 'hidden_layer_sizes': (40,), 'learning_rate': 'constant'}\n",
      "Score: 0.5543 (+/-0.1031) for Params: {'activation': 'tanh', 'hidden_layer_sizes': (40,), 'learning_rate': 'invscaling'}\n",
      "Score: 0.6 (+/-0.0852) for Params: {'activation': 'tanh', 'hidden_layer_sizes': (40,), 'learning_rate': 'adaptive'}\n",
      "Score: 0.5967 (+/-0.1008) for Params: {'activation': 'tanh', 'hidden_layer_sizes': (50,), 'learning_rate': 'constant'}\n",
      "Score: 0.6197 (+/-0.0517) for Params: {'activation': 'tanh', 'hidden_layer_sizes': (50,), 'learning_rate': 'invscaling'}\n",
      "Score: 0.6284 (+/-0.1187) for Params: {'activation': 'tanh', 'hidden_layer_sizes': (50,), 'learning_rate': 'adaptive'}\n",
      "Score: 0.6782 (+/-0.0945) for Params: {'activation': 'logistic', 'hidden_layer_sizes': (10,), 'learning_rate': 'constant'}\n",
      "Score: 0.6582 (+/-0.0425) for Params: {'activation': 'logistic', 'hidden_layer_sizes': (10,), 'learning_rate': 'invscaling'}\n",
      "Score: 0.6632 (+/-0.0817) for Params: {'activation': 'logistic', 'hidden_layer_sizes': (10,), 'learning_rate': 'adaptive'}\n",
      "Score: 0.6978 (+/-0.0885) for Params: {'activation': 'logistic', 'hidden_layer_sizes': (20,), 'learning_rate': 'constant'}\n",
      "Score: 0.6724 (+/-0.0831) for Params: {'activation': 'logistic', 'hidden_layer_sizes': (20,), 'learning_rate': 'invscaling'}\n",
      "Score: 0.6894 (+/-0.0858) for Params: {'activation': 'logistic', 'hidden_layer_sizes': (20,), 'learning_rate': 'adaptive'}\n",
      "Score: 0.6927 (+/-0.0597) for Params: {'activation': 'logistic', 'hidden_layer_sizes': (30,), 'learning_rate': 'constant'}\n",
      "Score: 0.7111 (+/-0.0705) for Params: {'activation': 'logistic', 'hidden_layer_sizes': (30,), 'learning_rate': 'invscaling'}\n",
      "Score: 0.7122 (+/-0.071) for Params: {'activation': 'logistic', 'hidden_layer_sizes': (30,), 'learning_rate': 'adaptive'}\n",
      "Score: 0.7294 (+/-0.0891) for Params: {'activation': 'logistic', 'hidden_layer_sizes': (40,), 'learning_rate': 'constant'}\n",
      "Score: 0.7293 (+/-0.0974) for Params: {'activation': 'logistic', 'hidden_layer_sizes': (40,), 'learning_rate': 'invscaling'}\n",
      "Score: 0.7149 (+/-0.1081) for Params: {'activation': 'logistic', 'hidden_layer_sizes': (40,), 'learning_rate': 'adaptive'}\n",
      "Score: 0.7513 (+/-0.0514) for Params: {'activation': 'logistic', 'hidden_layer_sizes': (50,), 'learning_rate': 'constant'}\n",
      "Score: 0.7597 (+/-0.0714) for Params: {'activation': 'logistic', 'hidden_layer_sizes': (50,), 'learning_rate': 'invscaling'}\n",
      "Score: 0.7439 (+/-0.049) for Params: {'activation': 'logistic', 'hidden_layer_sizes': (50,), 'learning_rate': 'adaptive'}\n"
     ]
    }
   ],
   "source": [
    "mlp = MLPRegressor(solver='lbfgs')\n",
    "parameters = {\n",
    "    'hidden_layer_sizes': [(10,), (20,), (30,), (40,), (50,)],\n",
    "    'activation': ['relu', 'tanh', 'logistic'],\n",
    "    'learning_rate': ['constant', 'invscaling', 'adaptive']\n",
    "}\n",
    "\n",
    "CV_1 = GridSearchCV(mlp, parameters, cv=5, iid=False)\n",
    "CV_1.fit(X_train, y_train.values.ravel())\n",
    "\n",
    "print_best_score(CV_1)"
   ]
  },
  {
   "cell_type": "code",
   "execution_count": 17,
   "metadata": {},
   "outputs": [
    {
     "data": {
      "text/plain": [
       "MLPRegressor(activation='relu', alpha=0.0001, batch_size='auto', beta_1=0.9,\n",
       "             beta_2=0.999, early_stopping=False, epsilon=1e-08,\n",
       "             hidden_layer_sizes=(10,), learning_rate='constant',\n",
       "             learning_rate_init=0.001, max_iter=200, momentum=0.9,\n",
       "             n_iter_no_change=10, nesterovs_momentum=True, power_t=0.5,\n",
       "             random_state=None, shuffle=True, solver='lbfgs', tol=0.0001,\n",
       "             validation_fraction=0.1, verbose=False, warm_start=False)"
      ]
     },
     "execution_count": 17,
     "metadata": {},
     "output_type": "execute_result"
    }
   ],
   "source": [
    "MLP = CV_1.best_estimator_\n",
    "MLP"
   ]
  },
  {
   "cell_type": "markdown",
   "metadata": {},
   "source": [
    "### Model 3: Decision Tree"
   ]
  },
  {
   "cell_type": "code",
   "execution_count": 18,
   "metadata": {},
   "outputs": [
    {
     "name": "stdout",
     "output_type": "stream",
     "text": [
      "BEST SCORE: 0.835 - PARAMS: {'max_depth': 4, 'min_samples_leaf': 13}\n",
      "\n",
      "Score: 0.8049 (+/-0.0567) for Params: {'max_depth': 2, 'min_samples_leaf': 9}\n",
      "Score: 0.8049 (+/-0.0567) for Params: {'max_depth': 2, 'min_samples_leaf': 10}\n",
      "Score: 0.8049 (+/-0.0567) for Params: {'max_depth': 2, 'min_samples_leaf': 11}\n",
      "Score: 0.8049 (+/-0.0567) for Params: {'max_depth': 2, 'min_samples_leaf': 12}\n",
      "Score: 0.8049 (+/-0.0567) for Params: {'max_depth': 2, 'min_samples_leaf': 13}\n",
      "Score: 0.8049 (+/-0.0567) for Params: {'max_depth': 2, 'min_samples_leaf': 14}\n",
      "Score: 0.8251 (+/-0.0359) for Params: {'max_depth': 3, 'min_samples_leaf': 9}\n",
      "Score: 0.8251 (+/-0.0359) for Params: {'max_depth': 3, 'min_samples_leaf': 10}\n",
      "Score: 0.8251 (+/-0.0359) for Params: {'max_depth': 3, 'min_samples_leaf': 11}\n",
      "Score: 0.8251 (+/-0.0359) for Params: {'max_depth': 3, 'min_samples_leaf': 12}\n",
      "Score: 0.8251 (+/-0.0359) for Params: {'max_depth': 3, 'min_samples_leaf': 13}\n",
      "Score: 0.8251 (+/-0.0359) for Params: {'max_depth': 3, 'min_samples_leaf': 14}\n",
      "Score: 0.8338 (+/-0.0286) for Params: {'max_depth': 4, 'min_samples_leaf': 9}\n",
      "Score: 0.8333 (+/-0.0287) for Params: {'max_depth': 4, 'min_samples_leaf': 10}\n",
      "Score: 0.8337 (+/-0.0276) for Params: {'max_depth': 4, 'min_samples_leaf': 11}\n",
      "Score: 0.8346 (+/-0.0273) for Params: {'max_depth': 4, 'min_samples_leaf': 12}\n",
      "Score: 0.8347 (+/-0.0279) for Params: {'max_depth': 4, 'min_samples_leaf': 13}\n",
      "Score: 0.834 (+/-0.0281) for Params: {'max_depth': 4, 'min_samples_leaf': 14}\n",
      "Score: 0.8249 (+/-0.0274) for Params: {'max_depth': 5, 'min_samples_leaf': 9}\n",
      "Score: 0.832 (+/-0.0305) for Params: {'max_depth': 5, 'min_samples_leaf': 10}\n",
      "Score: 0.831 (+/-0.027) for Params: {'max_depth': 5, 'min_samples_leaf': 11}\n",
      "Score: 0.8308 (+/-0.0252) for Params: {'max_depth': 5, 'min_samples_leaf': 12}\n",
      "Score: 0.8321 (+/-0.0299) for Params: {'max_depth': 5, 'min_samples_leaf': 13}\n",
      "Score: 0.8317 (+/-0.0303) for Params: {'max_depth': 5, 'min_samples_leaf': 14}\n",
      "Score: 0.8224 (+/-0.0225) for Params: {'max_depth': 6, 'min_samples_leaf': 9}\n",
      "Score: 0.8287 (+/-0.0225) for Params: {'max_depth': 6, 'min_samples_leaf': 10}\n",
      "Score: 0.8273 (+/-0.0199) for Params: {'max_depth': 6, 'min_samples_leaf': 11}\n",
      "Score: 0.825 (+/-0.0227) for Params: {'max_depth': 6, 'min_samples_leaf': 12}\n",
      "Score: 0.8275 (+/-0.0272) for Params: {'max_depth': 6, 'min_samples_leaf': 13}\n",
      "Score: 0.8282 (+/-0.0291) for Params: {'max_depth': 6, 'min_samples_leaf': 14}\n",
      "Score: 0.8175 (+/-0.0293) for Params: {'max_depth': 7, 'min_samples_leaf': 9}\n",
      "Score: 0.823 (+/-0.0318) for Params: {'max_depth': 7, 'min_samples_leaf': 10}\n",
      "Score: 0.8228 (+/-0.0267) for Params: {'max_depth': 7, 'min_samples_leaf': 11}\n",
      "Score: 0.8241 (+/-0.0251) for Params: {'max_depth': 7, 'min_samples_leaf': 12}\n",
      "Score: 0.8263 (+/-0.0304) for Params: {'max_depth': 7, 'min_samples_leaf': 13}\n",
      "Score: 0.8293 (+/-0.0282) for Params: {'max_depth': 7, 'min_samples_leaf': 14}\n"
     ]
    }
   ],
   "source": [
    "dt = DecisionTreeRegressor()\n",
    "parameters = {\n",
    "    'min_samples_leaf': np.arange(9, 15, 1, int),\n",
    "    'max_depth': np.arange(2, 8, 1, int)\n",
    "}\n",
    "\n",
    "CV_2 = GridSearchCV(dt, parameters, cv=5, iid=False)\n",
    "CV_2.fit(X_train, y_train.values.ravel())\n",
    "\n",
    "print_best_score(CV_2)"
   ]
  },
  {
   "cell_type": "code",
   "execution_count": 19,
   "metadata": {},
   "outputs": [
    {
     "data": {
      "text/plain": [
       "DecisionTreeRegressor(criterion='mse', max_depth=4, max_features=None,\n",
       "                      max_leaf_nodes=None, min_impurity_decrease=0.0,\n",
       "                      min_impurity_split=None, min_samples_leaf=13,\n",
       "                      min_samples_split=2, min_weight_fraction_leaf=0.0,\n",
       "                      presort=False, random_state=None, splitter='best')"
      ]
     },
     "execution_count": 19,
     "metadata": {},
     "output_type": "execute_result"
    }
   ],
   "source": [
    "DT = CV_2.best_estimator_\n",
    "DT"
   ]
  },
  {
   "cell_type": "markdown",
   "metadata": {},
   "source": [
    "### Model 4: Random Forest"
   ]
  },
  {
   "cell_type": "code",
   "execution_count": 20,
   "metadata": {},
   "outputs": [
    {
     "name": "stdout",
     "output_type": "stream",
     "text": [
      "BEST SCORE: 0.847 - PARAMS: {'max_depth': 9, 'min_samples_leaf': 9, 'n_estimators': 90}\n",
      "\n",
      "Score: 0.5817 (+/-0.1172) for Params: {'max_depth': 1, 'min_samples_leaf': 1, 'n_estimators': 10}\n",
      "Score: 0.5815 (+/-0.1204) for Params: {'max_depth': 1, 'min_samples_leaf': 1, 'n_estimators': 30}\n",
      "Score: 0.5825 (+/-0.1193) for Params: {'max_depth': 1, 'min_samples_leaf': 1, 'n_estimators': 50}\n",
      "Score: 0.5817 (+/-0.1213) for Params: {'max_depth': 1, 'min_samples_leaf': 1, 'n_estimators': 70}\n",
      "Score: 0.5811 (+/-0.1212) for Params: {'max_depth': 1, 'min_samples_leaf': 1, 'n_estimators': 90}\n",
      "Score: 0.5812 (+/-0.1211) for Params: {'max_depth': 1, 'min_samples_leaf': 1, 'n_estimators': 110}\n",
      "Score: 0.5823 (+/-0.1204) for Params: {'max_depth': 1, 'min_samples_leaf': 3, 'n_estimators': 10}\n",
      "Score: 0.5822 (+/-0.1206) for Params: {'max_depth': 1, 'min_samples_leaf': 3, 'n_estimators': 30}\n",
      "Score: 0.5816 (+/-0.1215) for Params: {'max_depth': 1, 'min_samples_leaf': 3, 'n_estimators': 50}\n",
      "Score: 0.581 (+/-0.1218) for Params: {'max_depth': 1, 'min_samples_leaf': 3, 'n_estimators': 70}\n",
      "Score: 0.5812 (+/-0.1193) for Params: {'max_depth': 1, 'min_samples_leaf': 3, 'n_estimators': 90}\n",
      "Score: 0.5818 (+/-0.1212) for Params: {'max_depth': 1, 'min_samples_leaf': 3, 'n_estimators': 110}\n",
      "Score: 0.5816 (+/-0.1204) for Params: {'max_depth': 1, 'min_samples_leaf': 5, 'n_estimators': 10}\n",
      "Score: 0.5813 (+/-0.121) for Params: {'max_depth': 1, 'min_samples_leaf': 5, 'n_estimators': 30}\n",
      "Score: 0.5818 (+/-0.1231) for Params: {'max_depth': 1, 'min_samples_leaf': 5, 'n_estimators': 50}\n",
      "Score: 0.5815 (+/-0.1182) for Params: {'max_depth': 1, 'min_samples_leaf': 5, 'n_estimators': 70}\n",
      "Score: 0.5812 (+/-0.1212) for Params: {'max_depth': 1, 'min_samples_leaf': 5, 'n_estimators': 90}\n",
      "Score: 0.5819 (+/-0.1199) for Params: {'max_depth': 1, 'min_samples_leaf': 5, 'n_estimators': 110}\n",
      "Score: 0.5808 (+/-0.1237) for Params: {'max_depth': 1, 'min_samples_leaf': 7, 'n_estimators': 10}\n",
      "Score: 0.5812 (+/-0.1195) for Params: {'max_depth': 1, 'min_samples_leaf': 7, 'n_estimators': 30}\n",
      "Score: 0.5805 (+/-0.1198) for Params: {'max_depth': 1, 'min_samples_leaf': 7, 'n_estimators': 50}\n",
      "Score: 0.5818 (+/-0.12) for Params: {'max_depth': 1, 'min_samples_leaf': 7, 'n_estimators': 70}\n",
      "Score: 0.5808 (+/-0.1212) for Params: {'max_depth': 1, 'min_samples_leaf': 7, 'n_estimators': 90}\n",
      "Score: 0.5811 (+/-0.1202) for Params: {'max_depth': 1, 'min_samples_leaf': 7, 'n_estimators': 110}\n",
      "Score: 0.5812 (+/-0.121) for Params: {'max_depth': 1, 'min_samples_leaf': 9, 'n_estimators': 10}\n",
      "Score: 0.5805 (+/-0.1186) for Params: {'max_depth': 1, 'min_samples_leaf': 9, 'n_estimators': 30}\n",
      "Score: 0.5806 (+/-0.1189) for Params: {'max_depth': 1, 'min_samples_leaf': 9, 'n_estimators': 50}\n",
      "Score: 0.5815 (+/-0.1198) for Params: {'max_depth': 1, 'min_samples_leaf': 9, 'n_estimators': 70}\n",
      "Score: 0.5819 (+/-0.1215) for Params: {'max_depth': 1, 'min_samples_leaf': 9, 'n_estimators': 90}\n",
      "Score: 0.5811 (+/-0.1212) for Params: {'max_depth': 1, 'min_samples_leaf': 9, 'n_estimators': 110}\n",
      "Score: 0.8364 (+/-0.0379) for Params: {'max_depth': 3, 'min_samples_leaf': 1, 'n_estimators': 10}\n",
      "Score: 0.838 (+/-0.0379) for Params: {'max_depth': 3, 'min_samples_leaf': 1, 'n_estimators': 30}\n",
      "Score: 0.8399 (+/-0.038) for Params: {'max_depth': 3, 'min_samples_leaf': 1, 'n_estimators': 50}\n",
      "Score: 0.8391 (+/-0.0365) for Params: {'max_depth': 3, 'min_samples_leaf': 1, 'n_estimators': 70}\n",
      "Score: 0.8393 (+/-0.0381) for Params: {'max_depth': 3, 'min_samples_leaf': 1, 'n_estimators': 90}\n",
      "Score: 0.839 (+/-0.0377) for Params: {'max_depth': 3, 'min_samples_leaf': 1, 'n_estimators': 110}\n",
      "Score: 0.8356 (+/-0.0391) for Params: {'max_depth': 3, 'min_samples_leaf': 3, 'n_estimators': 10}\n",
      "Score: 0.8379 (+/-0.0386) for Params: {'max_depth': 3, 'min_samples_leaf': 3, 'n_estimators': 30}\n",
      "Score: 0.8392 (+/-0.0378) for Params: {'max_depth': 3, 'min_samples_leaf': 3, 'n_estimators': 50}\n",
      "Score: 0.8391 (+/-0.0381) for Params: {'max_depth': 3, 'min_samples_leaf': 3, 'n_estimators': 70}\n",
      "Score: 0.8387 (+/-0.0361) for Params: {'max_depth': 3, 'min_samples_leaf': 3, 'n_estimators': 90}\n",
      "Score: 0.8391 (+/-0.0382) for Params: {'max_depth': 3, 'min_samples_leaf': 3, 'n_estimators': 110}\n",
      "Score: 0.8378 (+/-0.0359) for Params: {'max_depth': 3, 'min_samples_leaf': 5, 'n_estimators': 10}\n",
      "Score: 0.8385 (+/-0.039) for Params: {'max_depth': 3, 'min_samples_leaf': 5, 'n_estimators': 30}\n",
      "Score: 0.8382 (+/-0.036) for Params: {'max_depth': 3, 'min_samples_leaf': 5, 'n_estimators': 50}\n",
      "Score: 0.8391 (+/-0.0371) for Params: {'max_depth': 3, 'min_samples_leaf': 5, 'n_estimators': 70}\n",
      "Score: 0.8388 (+/-0.0368) for Params: {'max_depth': 3, 'min_samples_leaf': 5, 'n_estimators': 90}\n",
      "Score: 0.8392 (+/-0.0374) for Params: {'max_depth': 3, 'min_samples_leaf': 5, 'n_estimators': 110}\n",
      "Score: 0.8385 (+/-0.0389) for Params: {'max_depth': 3, 'min_samples_leaf': 7, 'n_estimators': 10}\n",
      "Score: 0.8386 (+/-0.0376) for Params: {'max_depth': 3, 'min_samples_leaf': 7, 'n_estimators': 30}\n",
      "Score: 0.8382 (+/-0.0387) for Params: {'max_depth': 3, 'min_samples_leaf': 7, 'n_estimators': 50}\n",
      "Score: 0.8384 (+/-0.0369) for Params: {'max_depth': 3, 'min_samples_leaf': 7, 'n_estimators': 70}\n",
      "Score: 0.8394 (+/-0.0386) for Params: {'max_depth': 3, 'min_samples_leaf': 7, 'n_estimators': 90}\n",
      "Score: 0.8384 (+/-0.0372) for Params: {'max_depth': 3, 'min_samples_leaf': 7, 'n_estimators': 110}\n",
      "Score: 0.8366 (+/-0.0377) for Params: {'max_depth': 3, 'min_samples_leaf': 9, 'n_estimators': 10}\n",
      "Score: 0.8384 (+/-0.0361) for Params: {'max_depth': 3, 'min_samples_leaf': 9, 'n_estimators': 30}\n",
      "Score: 0.8391 (+/-0.0381) for Params: {'max_depth': 3, 'min_samples_leaf': 9, 'n_estimators': 50}\n",
      "Score: 0.8395 (+/-0.0374) for Params: {'max_depth': 3, 'min_samples_leaf': 9, 'n_estimators': 70}\n",
      "Score: 0.8383 (+/-0.0369) for Params: {'max_depth': 3, 'min_samples_leaf': 9, 'n_estimators': 90}\n",
      "Score: 0.8384 (+/-0.0361) for Params: {'max_depth': 3, 'min_samples_leaf': 9, 'n_estimators': 110}\n",
      "Score: 0.8379 (+/-0.031) for Params: {'max_depth': 5, 'min_samples_leaf': 1, 'n_estimators': 10}\n",
      "Score: 0.8418 (+/-0.0339) for Params: {'max_depth': 5, 'min_samples_leaf': 1, 'n_estimators': 30}\n",
      "Score: 0.8416 (+/-0.0311) for Params: {'max_depth': 5, 'min_samples_leaf': 1, 'n_estimators': 50}\n",
      "Score: 0.8418 (+/-0.0304) for Params: {'max_depth': 5, 'min_samples_leaf': 1, 'n_estimators': 70}\n",
      "Score: 0.8417 (+/-0.0288) for Params: {'max_depth': 5, 'min_samples_leaf': 1, 'n_estimators': 90}\n",
      "Score: 0.8411 (+/-0.0297) for Params: {'max_depth': 5, 'min_samples_leaf': 1, 'n_estimators': 110}\n",
      "Score: 0.842 (+/-0.0188) for Params: {'max_depth': 5, 'min_samples_leaf': 3, 'n_estimators': 10}\n",
      "Score: 0.8441 (+/-0.0242) for Params: {'max_depth': 5, 'min_samples_leaf': 3, 'n_estimators': 30}\n",
      "Score: 0.8439 (+/-0.0253) for Params: {'max_depth': 5, 'min_samples_leaf': 3, 'n_estimators': 50}\n",
      "Score: 0.8456 (+/-0.0245) for Params: {'max_depth': 5, 'min_samples_leaf': 3, 'n_estimators': 70}\n",
      "Score: 0.8447 (+/-0.0239) for Params: {'max_depth': 5, 'min_samples_leaf': 3, 'n_estimators': 90}\n",
      "Score: 0.8447 (+/-0.0249) for Params: {'max_depth': 5, 'min_samples_leaf': 3, 'n_estimators': 110}\n",
      "Score: 0.841 (+/-0.0269) for Params: {'max_depth': 5, 'min_samples_leaf': 5, 'n_estimators': 10}\n",
      "Score: 0.8461 (+/-0.0273) for Params: {'max_depth': 5, 'min_samples_leaf': 5, 'n_estimators': 30}\n",
      "Score: 0.8467 (+/-0.0267) for Params: {'max_depth': 5, 'min_samples_leaf': 5, 'n_estimators': 50}\n",
      "Score: 0.8458 (+/-0.0289) for Params: {'max_depth': 5, 'min_samples_leaf': 5, 'n_estimators': 70}\n",
      "Score: 0.845 (+/-0.0275) for Params: {'max_depth': 5, 'min_samples_leaf': 5, 'n_estimators': 90}\n",
      "Score: 0.8449 (+/-0.0292) for Params: {'max_depth': 5, 'min_samples_leaf': 5, 'n_estimators': 110}\n",
      "Score: 0.8453 (+/-0.027) for Params: {'max_depth': 5, 'min_samples_leaf': 7, 'n_estimators': 10}\n",
      "Score: 0.8449 (+/-0.0273) for Params: {'max_depth': 5, 'min_samples_leaf': 7, 'n_estimators': 30}\n",
      "Score: 0.8442 (+/-0.0303) for Params: {'max_depth': 5, 'min_samples_leaf': 7, 'n_estimators': 50}\n",
      "Score: 0.8455 (+/-0.0306) for Params: {'max_depth': 5, 'min_samples_leaf': 7, 'n_estimators': 70}\n",
      "Score: 0.8452 (+/-0.0302) for Params: {'max_depth': 5, 'min_samples_leaf': 7, 'n_estimators': 90}\n",
      "Score: 0.845 (+/-0.0293) for Params: {'max_depth': 5, 'min_samples_leaf': 7, 'n_estimators': 110}\n",
      "Score: 0.8419 (+/-0.0282) for Params: {'max_depth': 5, 'min_samples_leaf': 9, 'n_estimators': 10}\n",
      "Score: 0.846 (+/-0.0327) for Params: {'max_depth': 5, 'min_samples_leaf': 9, 'n_estimators': 30}\n",
      "Score: 0.8453 (+/-0.0319) for Params: {'max_depth': 5, 'min_samples_leaf': 9, 'n_estimators': 50}\n",
      "Score: 0.8445 (+/-0.0325) for Params: {'max_depth': 5, 'min_samples_leaf': 9, 'n_estimators': 70}\n",
      "Score: 0.8458 (+/-0.031) for Params: {'max_depth': 5, 'min_samples_leaf': 9, 'n_estimators': 90}\n",
      "Score: 0.8449 (+/-0.03) for Params: {'max_depth': 5, 'min_samples_leaf': 9, 'n_estimators': 110}\n",
      "Score: 0.826 (+/-0.0328) for Params: {'max_depth': 7, 'min_samples_leaf': 1, 'n_estimators': 10}\n",
      "Score: 0.837 (+/-0.0285) for Params: {'max_depth': 7, 'min_samples_leaf': 1, 'n_estimators': 30}\n",
      "Score: 0.8377 (+/-0.0271) for Params: {'max_depth': 7, 'min_samples_leaf': 1, 'n_estimators': 50}\n",
      "Score: 0.8361 (+/-0.0307) for Params: {'max_depth': 7, 'min_samples_leaf': 1, 'n_estimators': 70}\n",
      "Score: 0.8368 (+/-0.0307) for Params: {'max_depth': 7, 'min_samples_leaf': 1, 'n_estimators': 90}\n",
      "Score: 0.8381 (+/-0.0255) for Params: {'max_depth': 7, 'min_samples_leaf': 1, 'n_estimators': 110}\n",
      "Score: 0.8396 (+/-0.0171) for Params: {'max_depth': 7, 'min_samples_leaf': 3, 'n_estimators': 10}\n",
      "Score: 0.8399 (+/-0.0214) for Params: {'max_depth': 7, 'min_samples_leaf': 3, 'n_estimators': 30}\n",
      "Score: 0.841 (+/-0.0231) for Params: {'max_depth': 7, 'min_samples_leaf': 3, 'n_estimators': 50}\n",
      "Score: 0.843 (+/-0.0183) for Params: {'max_depth': 7, 'min_samples_leaf': 3, 'n_estimators': 70}\n",
      "Score: 0.8425 (+/-0.0204) for Params: {'max_depth': 7, 'min_samples_leaf': 3, 'n_estimators': 90}\n",
      "Score: 0.8435 (+/-0.0206) for Params: {'max_depth': 7, 'min_samples_leaf': 3, 'n_estimators': 110}\n",
      "Score: 0.8429 (+/-0.0249) for Params: {'max_depth': 7, 'min_samples_leaf': 5, 'n_estimators': 10}\n",
      "Score: 0.8452 (+/-0.0238) for Params: {'max_depth': 7, 'min_samples_leaf': 5, 'n_estimators': 30}\n",
      "Score: 0.8442 (+/-0.0225) for Params: {'max_depth': 7, 'min_samples_leaf': 5, 'n_estimators': 50}\n",
      "Score: 0.8444 (+/-0.0247) for Params: {'max_depth': 7, 'min_samples_leaf': 5, 'n_estimators': 70}\n",
      "Score: 0.8447 (+/-0.0257) for Params: {'max_depth': 7, 'min_samples_leaf': 5, 'n_estimators': 90}\n",
      "Score: 0.8455 (+/-0.0234) for Params: {'max_depth': 7, 'min_samples_leaf': 5, 'n_estimators': 110}\n",
      "Score: 0.8385 (+/-0.0244) for Params: {'max_depth': 7, 'min_samples_leaf': 7, 'n_estimators': 10}\n",
      "Score: 0.8446 (+/-0.0284) for Params: {'max_depth': 7, 'min_samples_leaf': 7, 'n_estimators': 30}\n",
      "Score: 0.8437 (+/-0.027) for Params: {'max_depth': 7, 'min_samples_leaf': 7, 'n_estimators': 50}\n",
      "Score: 0.8459 (+/-0.0291) for Params: {'max_depth': 7, 'min_samples_leaf': 7, 'n_estimators': 70}\n",
      "Score: 0.8455 (+/-0.0268) for Params: {'max_depth': 7, 'min_samples_leaf': 7, 'n_estimators': 90}\n",
      "Score: 0.8453 (+/-0.0247) for Params: {'max_depth': 7, 'min_samples_leaf': 7, 'n_estimators': 110}\n",
      "Score: 0.8418 (+/-0.0273) for Params: {'max_depth': 7, 'min_samples_leaf': 9, 'n_estimators': 10}\n",
      "Score: 0.8468 (+/-0.0285) for Params: {'max_depth': 7, 'min_samples_leaf': 9, 'n_estimators': 30}\n",
      "Score: 0.8448 (+/-0.0274) for Params: {'max_depth': 7, 'min_samples_leaf': 9, 'n_estimators': 50}\n",
      "Score: 0.846 (+/-0.0283) for Params: {'max_depth': 7, 'min_samples_leaf': 9, 'n_estimators': 70}\n",
      "Score: 0.8464 (+/-0.0289) for Params: {'max_depth': 7, 'min_samples_leaf': 9, 'n_estimators': 90}\n",
      "Score: 0.8451 (+/-0.0277) for Params: {'max_depth': 7, 'min_samples_leaf': 9, 'n_estimators': 110}\n",
      "Score: 0.82 (+/-0.0197) for Params: {'max_depth': 9, 'min_samples_leaf': 1, 'n_estimators': 10}\n",
      "Score: 0.8287 (+/-0.032) for Params: {'max_depth': 9, 'min_samples_leaf': 1, 'n_estimators': 30}\n",
      "Score: 0.8339 (+/-0.0219) for Params: {'max_depth': 9, 'min_samples_leaf': 1, 'n_estimators': 50}\n",
      "Score: 0.8332 (+/-0.0223) for Params: {'max_depth': 9, 'min_samples_leaf': 1, 'n_estimators': 70}\n",
      "Score: 0.8338 (+/-0.0306) for Params: {'max_depth': 9, 'min_samples_leaf': 1, 'n_estimators': 90}\n",
      "Score: 0.8316 (+/-0.0264) for Params: {'max_depth': 9, 'min_samples_leaf': 1, 'n_estimators': 110}\n",
      "Score: 0.8362 (+/-0.0097) for Params: {'max_depth': 9, 'min_samples_leaf': 3, 'n_estimators': 10}\n",
      "Score: 0.8397 (+/-0.0237) for Params: {'max_depth': 9, 'min_samples_leaf': 3, 'n_estimators': 30}\n",
      "Score: 0.8401 (+/-0.0239) for Params: {'max_depth': 9, 'min_samples_leaf': 3, 'n_estimators': 50}\n",
      "Score: 0.8417 (+/-0.0215) for Params: {'max_depth': 9, 'min_samples_leaf': 3, 'n_estimators': 70}\n",
      "Score: 0.8419 (+/-0.019) for Params: {'max_depth': 9, 'min_samples_leaf': 3, 'n_estimators': 90}\n",
      "Score: 0.8418 (+/-0.0193) for Params: {'max_depth': 9, 'min_samples_leaf': 3, 'n_estimators': 110}\n",
      "Score: 0.8405 (+/-0.0253) for Params: {'max_depth': 9, 'min_samples_leaf': 5, 'n_estimators': 10}\n"
     ]
    },
    {
     "name": "stdout",
     "output_type": "stream",
     "text": [
      "Score: 0.8421 (+/-0.0235) for Params: {'max_depth': 9, 'min_samples_leaf': 5, 'n_estimators': 30}\n",
      "Score: 0.8449 (+/-0.0218) for Params: {'max_depth': 9, 'min_samples_leaf': 5, 'n_estimators': 50}\n",
      "Score: 0.8442 (+/-0.0216) for Params: {'max_depth': 9, 'min_samples_leaf': 5, 'n_estimators': 70}\n",
      "Score: 0.8433 (+/-0.022) for Params: {'max_depth': 9, 'min_samples_leaf': 5, 'n_estimators': 90}\n",
      "Score: 0.8448 (+/-0.0225) for Params: {'max_depth': 9, 'min_samples_leaf': 5, 'n_estimators': 110}\n",
      "Score: 0.8433 (+/-0.0291) for Params: {'max_depth': 9, 'min_samples_leaf': 7, 'n_estimators': 10}\n",
      "Score: 0.8445 (+/-0.0316) for Params: {'max_depth': 9, 'min_samples_leaf': 7, 'n_estimators': 30}\n",
      "Score: 0.8442 (+/-0.0267) for Params: {'max_depth': 9, 'min_samples_leaf': 7, 'n_estimators': 50}\n",
      "Score: 0.8458 (+/-0.025) for Params: {'max_depth': 9, 'min_samples_leaf': 7, 'n_estimators': 70}\n",
      "Score: 0.8452 (+/-0.0246) for Params: {'max_depth': 9, 'min_samples_leaf': 7, 'n_estimators': 90}\n",
      "Score: 0.8457 (+/-0.0241) for Params: {'max_depth': 9, 'min_samples_leaf': 7, 'n_estimators': 110}\n",
      "Score: 0.8415 (+/-0.0311) for Params: {'max_depth': 9, 'min_samples_leaf': 9, 'n_estimators': 10}\n",
      "Score: 0.846 (+/-0.0319) for Params: {'max_depth': 9, 'min_samples_leaf': 9, 'n_estimators': 30}\n",
      "Score: 0.8451 (+/-0.0274) for Params: {'max_depth': 9, 'min_samples_leaf': 9, 'n_estimators': 50}\n",
      "Score: 0.846 (+/-0.0285) for Params: {'max_depth': 9, 'min_samples_leaf': 9, 'n_estimators': 70}\n",
      "Score: 0.8469 (+/-0.0296) for Params: {'max_depth': 9, 'min_samples_leaf': 9, 'n_estimators': 90}\n",
      "Score: 0.8467 (+/-0.0275) for Params: {'max_depth': 9, 'min_samples_leaf': 9, 'n_estimators': 110}\n"
     ]
    }
   ],
   "source": [
    "rf = RandomForestRegressor()\n",
    "parameters = {\n",
    "    'n_estimators': np.arange(10, 120, 20),\n",
    "    'max_depth': np.arange(1, 11, 2),\n",
    "    'min_samples_leaf': np.arange(1, 11, 2, int),\n",
    "}\n",
    "\n",
    "CV_3 = GridSearchCV(rf, parameters, cv=5, iid=False)\n",
    "CV_3.fit(X_train, y_train.values.ravel())\n",
    "\n",
    "print_best_score(CV_3)"
   ]
  },
  {
   "cell_type": "code",
   "execution_count": 21,
   "metadata": {},
   "outputs": [
    {
     "data": {
      "text/plain": [
       "RandomForestRegressor(bootstrap=True, criterion='mse', max_depth=9,\n",
       "                      max_features='auto', max_leaf_nodes=None,\n",
       "                      min_impurity_decrease=0.0, min_impurity_split=None,\n",
       "                      min_samples_leaf=9, min_samples_split=2,\n",
       "                      min_weight_fraction_leaf=0.0, n_estimators=90,\n",
       "                      n_jobs=None, oob_score=False, random_state=None,\n",
       "                      verbose=0, warm_start=False)"
      ]
     },
     "execution_count": 21,
     "metadata": {},
     "output_type": "execute_result"
    }
   ],
   "source": [
    "RF = CV_3.best_estimator_\n",
    "RF"
   ]
  },
  {
   "cell_type": "markdown",
   "metadata": {},
   "source": [
    "### Model 5: Gradient Boosting"
   ]
  },
  {
   "cell_type": "code",
   "execution_count": 22,
   "metadata": {},
   "outputs": [
    {
     "name": "stdout",
     "output_type": "stream",
     "text": [
      "BEST SCORE: 0.846 - PARAMS: {'max_depth': 3, 'min_samples_leaf': 3, 'n_estimators': 50}\n",
      "\n",
      "Score: 0.5117 (+/-0.0749) for Params: {'max_depth': 1, 'min_samples_leaf': 1, 'n_estimators': 10}\n",
      "Score: 0.6756 (+/-0.0528) for Params: {'max_depth': 1, 'min_samples_leaf': 1, 'n_estimators': 30}\n",
      "Score: 0.7165 (+/-0.0507) for Params: {'max_depth': 1, 'min_samples_leaf': 1, 'n_estimators': 50}\n",
      "Score: 0.729 (+/-0.0511) for Params: {'max_depth': 1, 'min_samples_leaf': 1, 'n_estimators': 70}\n",
      "Score: 0.7335 (+/-0.0529) for Params: {'max_depth': 1, 'min_samples_leaf': 1, 'n_estimators': 90}\n",
      "Score: 0.7347 (+/-0.0533) for Params: {'max_depth': 1, 'min_samples_leaf': 1, 'n_estimators': 110}\n",
      "Score: 0.5117 (+/-0.0749) for Params: {'max_depth': 1, 'min_samples_leaf': 3, 'n_estimators': 10}\n",
      "Score: 0.6756 (+/-0.0528) for Params: {'max_depth': 1, 'min_samples_leaf': 3, 'n_estimators': 30}\n",
      "Score: 0.7165 (+/-0.0507) for Params: {'max_depth': 1, 'min_samples_leaf': 3, 'n_estimators': 50}\n",
      "Score: 0.729 (+/-0.0511) for Params: {'max_depth': 1, 'min_samples_leaf': 3, 'n_estimators': 70}\n",
      "Score: 0.734 (+/-0.0522) for Params: {'max_depth': 1, 'min_samples_leaf': 3, 'n_estimators': 90}\n",
      "Score: 0.7352 (+/-0.0526) for Params: {'max_depth': 1, 'min_samples_leaf': 3, 'n_estimators': 110}\n",
      "Score: 0.5117 (+/-0.0749) for Params: {'max_depth': 1, 'min_samples_leaf': 5, 'n_estimators': 10}\n",
      "Score: 0.6756 (+/-0.0528) for Params: {'max_depth': 1, 'min_samples_leaf': 5, 'n_estimators': 30}\n",
      "Score: 0.7165 (+/-0.0507) for Params: {'max_depth': 1, 'min_samples_leaf': 5, 'n_estimators': 50}\n",
      "Score: 0.729 (+/-0.0511) for Params: {'max_depth': 1, 'min_samples_leaf': 5, 'n_estimators': 70}\n",
      "Score: 0.7341 (+/-0.0524) for Params: {'max_depth': 1, 'min_samples_leaf': 5, 'n_estimators': 90}\n",
      "Score: 0.7357 (+/-0.0538) for Params: {'max_depth': 1, 'min_samples_leaf': 5, 'n_estimators': 110}\n",
      "Score: 0.5117 (+/-0.0749) for Params: {'max_depth': 1, 'min_samples_leaf': 7, 'n_estimators': 10}\n",
      "Score: 0.6756 (+/-0.0528) for Params: {'max_depth': 1, 'min_samples_leaf': 7, 'n_estimators': 30}\n",
      "Score: 0.7165 (+/-0.0507) for Params: {'max_depth': 1, 'min_samples_leaf': 7, 'n_estimators': 50}\n",
      "Score: 0.729 (+/-0.0511) for Params: {'max_depth': 1, 'min_samples_leaf': 7, 'n_estimators': 70}\n",
      "Score: 0.7342 (+/-0.0523) for Params: {'max_depth': 1, 'min_samples_leaf': 7, 'n_estimators': 90}\n",
      "Score: 0.7357 (+/-0.0533) for Params: {'max_depth': 1, 'min_samples_leaf': 7, 'n_estimators': 110}\n",
      "Score: 0.5117 (+/-0.0749) for Params: {'max_depth': 1, 'min_samples_leaf': 9, 'n_estimators': 10}\n",
      "Score: 0.6756 (+/-0.0528) for Params: {'max_depth': 1, 'min_samples_leaf': 9, 'n_estimators': 30}\n",
      "Score: 0.7165 (+/-0.0507) for Params: {'max_depth': 1, 'min_samples_leaf': 9, 'n_estimators': 50}\n",
      "Score: 0.729 (+/-0.0509) for Params: {'max_depth': 1, 'min_samples_leaf': 9, 'n_estimators': 70}\n",
      "Score: 0.7343 (+/-0.0521) for Params: {'max_depth': 1, 'min_samples_leaf': 9, 'n_estimators': 90}\n",
      "Score: 0.7357 (+/-0.0532) for Params: {'max_depth': 1, 'min_samples_leaf': 9, 'n_estimators': 110}\n",
      "Score: 0.5117 (+/-0.0749) for Params: {'max_depth': 1, 'min_samples_leaf': 11, 'n_estimators': 10}\n",
      "Score: 0.6756 (+/-0.0528) for Params: {'max_depth': 1, 'min_samples_leaf': 11, 'n_estimators': 30}\n",
      "Score: 0.7165 (+/-0.0507) for Params: {'max_depth': 1, 'min_samples_leaf': 11, 'n_estimators': 50}\n",
      "Score: 0.7292 (+/-0.0514) for Params: {'max_depth': 1, 'min_samples_leaf': 11, 'n_estimators': 70}\n",
      "Score: 0.7349 (+/-0.0537) for Params: {'max_depth': 1, 'min_samples_leaf': 11, 'n_estimators': 90}\n",
      "Score: 0.7365 (+/-0.0546) for Params: {'max_depth': 1, 'min_samples_leaf': 11, 'n_estimators': 110}\n",
      "Score: 0.5117 (+/-0.0749) for Params: {'max_depth': 1, 'min_samples_leaf': 13, 'n_estimators': 10}\n",
      "Score: 0.6756 (+/-0.0528) for Params: {'max_depth': 1, 'min_samples_leaf': 13, 'n_estimators': 30}\n",
      "Score: 0.7165 (+/-0.0507) for Params: {'max_depth': 1, 'min_samples_leaf': 13, 'n_estimators': 50}\n",
      "Score: 0.7292 (+/-0.0514) for Params: {'max_depth': 1, 'min_samples_leaf': 13, 'n_estimators': 70}\n",
      "Score: 0.7349 (+/-0.0537) for Params: {'max_depth': 1, 'min_samples_leaf': 13, 'n_estimators': 90}\n",
      "Score: 0.7366 (+/-0.0549) for Params: {'max_depth': 1, 'min_samples_leaf': 13, 'n_estimators': 110}\n",
      "Score: 0.7336 (+/-0.0175) for Params: {'max_depth': 3, 'min_samples_leaf': 1, 'n_estimators': 10}\n",
      "Score: 0.8365 (+/-0.0336) for Params: {'max_depth': 3, 'min_samples_leaf': 1, 'n_estimators': 30}\n",
      "Score: 0.8396 (+/-0.0346) for Params: {'max_depth': 3, 'min_samples_leaf': 1, 'n_estimators': 50}\n",
      "Score: 0.8382 (+/-0.0344) for Params: {'max_depth': 3, 'min_samples_leaf': 1, 'n_estimators': 70}\n",
      "Score: 0.8333 (+/-0.0349) for Params: {'max_depth': 3, 'min_samples_leaf': 1, 'n_estimators': 90}\n",
      "Score: 0.8303 (+/-0.0352) for Params: {'max_depth': 3, 'min_samples_leaf': 1, 'n_estimators': 110}\n",
      "Score: 0.7332 (+/-0.0201) for Params: {'max_depth': 3, 'min_samples_leaf': 3, 'n_estimators': 10}\n",
      "Score: 0.8422 (+/-0.0275) for Params: {'max_depth': 3, 'min_samples_leaf': 3, 'n_estimators': 30}\n",
      "Score: 0.8461 (+/-0.0225) for Params: {'max_depth': 3, 'min_samples_leaf': 3, 'n_estimators': 50}\n",
      "Score: 0.8449 (+/-0.02) for Params: {'max_depth': 3, 'min_samples_leaf': 3, 'n_estimators': 70}\n",
      "Score: 0.8423 (+/-0.0199) for Params: {'max_depth': 3, 'min_samples_leaf': 3, 'n_estimators': 90}\n",
      "Score: 0.8403 (+/-0.0197) for Params: {'max_depth': 3, 'min_samples_leaf': 3, 'n_estimators': 110}\n",
      "Score: 0.7333 (+/-0.02) for Params: {'max_depth': 3, 'min_samples_leaf': 5, 'n_estimators': 10}\n",
      "Score: 0.842 (+/-0.0273) for Params: {'max_depth': 3, 'min_samples_leaf': 5, 'n_estimators': 30}\n",
      "Score: 0.8449 (+/-0.0224) for Params: {'max_depth': 3, 'min_samples_leaf': 5, 'n_estimators': 50}\n",
      "Score: 0.8428 (+/-0.0207) for Params: {'max_depth': 3, 'min_samples_leaf': 5, 'n_estimators': 70}\n",
      "Score: 0.8399 (+/-0.0177) for Params: {'max_depth': 3, 'min_samples_leaf': 5, 'n_estimators': 90}\n",
      "Score: 0.8378 (+/-0.015) for Params: {'max_depth': 3, 'min_samples_leaf': 5, 'n_estimators': 110}\n",
      "Score: 0.7332 (+/-0.0201) for Params: {'max_depth': 3, 'min_samples_leaf': 7, 'n_estimators': 10}\n",
      "Score: 0.8418 (+/-0.0279) for Params: {'max_depth': 3, 'min_samples_leaf': 7, 'n_estimators': 30}\n",
      "Score: 0.8446 (+/-0.0237) for Params: {'max_depth': 3, 'min_samples_leaf': 7, 'n_estimators': 50}\n",
      "Score: 0.8421 (+/-0.0217) for Params: {'max_depth': 3, 'min_samples_leaf': 7, 'n_estimators': 70}\n",
      "Score: 0.8393 (+/-0.0207) for Params: {'max_depth': 3, 'min_samples_leaf': 7, 'n_estimators': 90}\n",
      "Score: 0.837 (+/-0.0201) for Params: {'max_depth': 3, 'min_samples_leaf': 7, 'n_estimators': 110}\n",
      "Score: 0.7328 (+/-0.0202) for Params: {'max_depth': 3, 'min_samples_leaf': 9, 'n_estimators': 10}\n",
      "Score: 0.8414 (+/-0.0288) for Params: {'max_depth': 3, 'min_samples_leaf': 9, 'n_estimators': 30}\n",
      "Score: 0.8439 (+/-0.0243) for Params: {'max_depth': 3, 'min_samples_leaf': 9, 'n_estimators': 50}\n",
      "Score: 0.8423 (+/-0.0211) for Params: {'max_depth': 3, 'min_samples_leaf': 9, 'n_estimators': 70}\n",
      "Score: 0.8395 (+/-0.0183) for Params: {'max_depth': 3, 'min_samples_leaf': 9, 'n_estimators': 90}\n",
      "Score: 0.8365 (+/-0.0178) for Params: {'max_depth': 3, 'min_samples_leaf': 9, 'n_estimators': 110}\n",
      "Score: 0.733 (+/-0.0195) for Params: {'max_depth': 3, 'min_samples_leaf': 11, 'n_estimators': 10}\n",
      "Score: 0.8411 (+/-0.0284) for Params: {'max_depth': 3, 'min_samples_leaf': 11, 'n_estimators': 30}\n",
      "Score: 0.8429 (+/-0.0263) for Params: {'max_depth': 3, 'min_samples_leaf': 11, 'n_estimators': 50}\n",
      "Score: 0.8406 (+/-0.0237) for Params: {'max_depth': 3, 'min_samples_leaf': 11, 'n_estimators': 70}\n",
      "Score: 0.8373 (+/-0.0229) for Params: {'max_depth': 3, 'min_samples_leaf': 11, 'n_estimators': 90}\n",
      "Score: 0.8353 (+/-0.0227) for Params: {'max_depth': 3, 'min_samples_leaf': 11, 'n_estimators': 110}\n",
      "Score: 0.7331 (+/-0.0198) for Params: {'max_depth': 3, 'min_samples_leaf': 13, 'n_estimators': 10}\n",
      "Score: 0.8405 (+/-0.0295) for Params: {'max_depth': 3, 'min_samples_leaf': 13, 'n_estimators': 30}\n",
      "Score: 0.8433 (+/-0.0278) for Params: {'max_depth': 3, 'min_samples_leaf': 13, 'n_estimators': 50}\n",
      "Score: 0.841 (+/-0.0251) for Params: {'max_depth': 3, 'min_samples_leaf': 13, 'n_estimators': 70}\n",
      "Score: 0.8393 (+/-0.0229) for Params: {'max_depth': 3, 'min_samples_leaf': 13, 'n_estimators': 90}\n",
      "Score: 0.8375 (+/-0.0214) for Params: {'max_depth': 3, 'min_samples_leaf': 13, 'n_estimators': 110}\n",
      "Score: 0.7347 (+/-0.0204) for Params: {'max_depth': 5, 'min_samples_leaf': 1, 'n_estimators': 10}\n",
      "Score: 0.8292 (+/-0.0337) for Params: {'max_depth': 5, 'min_samples_leaf': 1, 'n_estimators': 30}\n",
      "Score: 0.8262 (+/-0.0322) for Params: {'max_depth': 5, 'min_samples_leaf': 1, 'n_estimators': 50}\n",
      "Score: 0.8219 (+/-0.0301) for Params: {'max_depth': 5, 'min_samples_leaf': 1, 'n_estimators': 70}\n",
      "Score: 0.8156 (+/-0.036) for Params: {'max_depth': 5, 'min_samples_leaf': 1, 'n_estimators': 90}\n",
      "Score: 0.813 (+/-0.0341) for Params: {'max_depth': 5, 'min_samples_leaf': 1, 'n_estimators': 110}\n",
      "Score: 0.7384 (+/-0.0192) for Params: {'max_depth': 5, 'min_samples_leaf': 3, 'n_estimators': 10}\n",
      "Score: 0.8339 (+/-0.0199) for Params: {'max_depth': 5, 'min_samples_leaf': 3, 'n_estimators': 30}\n",
      "Score: 0.8296 (+/-0.0197) for Params: {'max_depth': 5, 'min_samples_leaf': 3, 'n_estimators': 50}\n",
      "Score: 0.8245 (+/-0.0175) for Params: {'max_depth': 5, 'min_samples_leaf': 3, 'n_estimators': 70}\n",
      "Score: 0.8221 (+/-0.0167) for Params: {'max_depth': 5, 'min_samples_leaf': 3, 'n_estimators': 90}\n",
      "Score: 0.8175 (+/-0.0151) for Params: {'max_depth': 5, 'min_samples_leaf': 3, 'n_estimators': 110}\n",
      "Score: 0.7411 (+/-0.0166) for Params: {'max_depth': 5, 'min_samples_leaf': 5, 'n_estimators': 10}\n",
      "Score: 0.8379 (+/-0.0175) for Params: {'max_depth': 5, 'min_samples_leaf': 5, 'n_estimators': 30}\n",
      "Score: 0.8347 (+/-0.0186) for Params: {'max_depth': 5, 'min_samples_leaf': 5, 'n_estimators': 50}\n",
      "Score: 0.83 (+/-0.0154) for Params: {'max_depth': 5, 'min_samples_leaf': 5, 'n_estimators': 70}\n",
      "Score: 0.8263 (+/-0.0156) for Params: {'max_depth': 5, 'min_samples_leaf': 5, 'n_estimators': 90}\n",
      "Score: 0.8214 (+/-0.016) for Params: {'max_depth': 5, 'min_samples_leaf': 5, 'n_estimators': 110}\n",
      "Score: 0.7393 (+/-0.0163) for Params: {'max_depth': 5, 'min_samples_leaf': 7, 'n_estimators': 10}\n",
      "Score: 0.8392 (+/-0.0177) for Params: {'max_depth': 5, 'min_samples_leaf': 7, 'n_estimators': 30}\n",
      "Score: 0.836 (+/-0.0162) for Params: {'max_depth': 5, 'min_samples_leaf': 7, 'n_estimators': 50}\n",
      "Score: 0.8321 (+/-0.0142) for Params: {'max_depth': 5, 'min_samples_leaf': 7, 'n_estimators': 70}\n",
      "Score: 0.8301 (+/-0.0129) for Params: {'max_depth': 5, 'min_samples_leaf': 7, 'n_estimators': 90}\n",
      "Score: 0.8268 (+/-0.013) for Params: {'max_depth': 5, 'min_samples_leaf': 7, 'n_estimators': 110}\n",
      "Score: 0.7373 (+/-0.0184) for Params: {'max_depth': 5, 'min_samples_leaf': 9, 'n_estimators': 10}\n",
      "Score: 0.8366 (+/-0.0238) for Params: {'max_depth': 5, 'min_samples_leaf': 9, 'n_estimators': 30}\n",
      "Score: 0.8359 (+/-0.02) for Params: {'max_depth': 5, 'min_samples_leaf': 9, 'n_estimators': 50}\n",
      "Score: 0.8324 (+/-0.0196) for Params: {'max_depth': 5, 'min_samples_leaf': 9, 'n_estimators': 70}\n",
      "Score: 0.8306 (+/-0.0194) for Params: {'max_depth': 5, 'min_samples_leaf': 9, 'n_estimators': 90}\n",
      "Score: 0.8274 (+/-0.0183) for Params: {'max_depth': 5, 'min_samples_leaf': 9, 'n_estimators': 110}\n",
      "Score: 0.7393 (+/-0.0159) for Params: {'max_depth': 5, 'min_samples_leaf': 11, 'n_estimators': 10}\n",
      "Score: 0.8389 (+/-0.0252) for Params: {'max_depth': 5, 'min_samples_leaf': 11, 'n_estimators': 30}\n",
      "Score: 0.836 (+/-0.0232) for Params: {'max_depth': 5, 'min_samples_leaf': 11, 'n_estimators': 50}\n",
      "Score: 0.8329 (+/-0.0198) for Params: {'max_depth': 5, 'min_samples_leaf': 11, 'n_estimators': 70}\n",
      "Score: 0.8299 (+/-0.0177) for Params: {'max_depth': 5, 'min_samples_leaf': 11, 'n_estimators': 90}\n",
      "Score: 0.8274 (+/-0.0174) for Params: {'max_depth': 5, 'min_samples_leaf': 11, 'n_estimators': 110}\n",
      "Score: 0.7396 (+/-0.0171) for Params: {'max_depth': 5, 'min_samples_leaf': 13, 'n_estimators': 10}\n",
      "Score: 0.8394 (+/-0.0222) for Params: {'max_depth': 5, 'min_samples_leaf': 13, 'n_estimators': 30}\n",
      "Score: 0.8376 (+/-0.021) for Params: {'max_depth': 5, 'min_samples_leaf': 13, 'n_estimators': 50}\n",
      "Score: 0.8346 (+/-0.0222) for Params: {'max_depth': 5, 'min_samples_leaf': 13, 'n_estimators': 70}\n",
      "Score: 0.8325 (+/-0.0211) for Params: {'max_depth': 5, 'min_samples_leaf': 13, 'n_estimators': 90}\n",
      "Score: 0.83 (+/-0.0206) for Params: {'max_depth': 5, 'min_samples_leaf': 13, 'n_estimators': 110}\n",
      "Score: 0.7261 (+/-0.023) for Params: {'max_depth': 7, 'min_samples_leaf': 1, 'n_estimators': 10}\n",
      "Score: 0.8111 (+/-0.0424) for Params: {'max_depth': 7, 'min_samples_leaf': 1, 'n_estimators': 30}\n",
      "Score: 0.8028 (+/-0.0435) for Params: {'max_depth': 7, 'min_samples_leaf': 1, 'n_estimators': 50}\n",
      "Score: 0.7991 (+/-0.0434) for Params: {'max_depth': 7, 'min_samples_leaf': 1, 'n_estimators': 70}\n",
      "Score: 0.7973 (+/-0.0493) for Params: {'max_depth': 7, 'min_samples_leaf': 1, 'n_estimators': 90}\n",
      "Score: 0.7974 (+/-0.0476) for Params: {'max_depth': 7, 'min_samples_leaf': 1, 'n_estimators': 110}\n",
      "Score: 0.7368 (+/-0.0182) for Params: {'max_depth': 7, 'min_samples_leaf': 3, 'n_estimators': 10}\n",
      "Score: 0.8255 (+/-0.0184) for Params: {'max_depth': 7, 'min_samples_leaf': 3, 'n_estimators': 30}\n",
      "Score: 0.8182 (+/-0.0184) for Params: {'max_depth': 7, 'min_samples_leaf': 3, 'n_estimators': 50}\n",
      "Score: 0.8136 (+/-0.022) for Params: {'max_depth': 7, 'min_samples_leaf': 3, 'n_estimators': 70}\n",
      "Score: 0.8086 (+/-0.0255) for Params: {'max_depth': 7, 'min_samples_leaf': 3, 'n_estimators': 90}\n",
      "Score: 0.805 (+/-0.0274) for Params: {'max_depth': 7, 'min_samples_leaf': 3, 'n_estimators': 110}\n",
      "Score: 0.7403 (+/-0.023) for Params: {'max_depth': 7, 'min_samples_leaf': 5, 'n_estimators': 10}\n",
      "Score: 0.8325 (+/-0.0254) for Params: {'max_depth': 7, 'min_samples_leaf': 5, 'n_estimators': 30}\n",
      "Score: 0.8272 (+/-0.0252) for Params: {'max_depth': 7, 'min_samples_leaf': 5, 'n_estimators': 50}\n",
      "Score: 0.8218 (+/-0.0229) for Params: {'max_depth': 7, 'min_samples_leaf': 5, 'n_estimators': 70}\n",
      "Score: 0.8171 (+/-0.0243) for Params: {'max_depth': 7, 'min_samples_leaf': 5, 'n_estimators': 90}\n",
      "Score: 0.8136 (+/-0.0243) for Params: {'max_depth': 7, 'min_samples_leaf': 5, 'n_estimators': 110}\n",
      "Score: 0.7373 (+/-0.0155) for Params: {'max_depth': 7, 'min_samples_leaf': 7, 'n_estimators': 10}\n",
      "Score: 0.8322 (+/-0.0192) for Params: {'max_depth': 7, 'min_samples_leaf': 7, 'n_estimators': 30}\n",
      "Score: 0.8276 (+/-0.0162) for Params: {'max_depth': 7, 'min_samples_leaf': 7, 'n_estimators': 50}\n",
      "Score: 0.8224 (+/-0.0152) for Params: {'max_depth': 7, 'min_samples_leaf': 7, 'n_estimators': 70}\n",
      "Score: 0.8186 (+/-0.0112) for Params: {'max_depth': 7, 'min_samples_leaf': 7, 'n_estimators': 90}\n",
      "Score: 0.8148 (+/-0.0079) for Params: {'max_depth': 7, 'min_samples_leaf': 7, 'n_estimators': 110}\n",
      "Score: 0.7359 (+/-0.0221) for Params: {'max_depth': 7, 'min_samples_leaf': 9, 'n_estimators': 10}\n",
      "Score: 0.8324 (+/-0.0243) for Params: {'max_depth': 7, 'min_samples_leaf': 9, 'n_estimators': 30}\n",
      "Score: 0.8277 (+/-0.0229) for Params: {'max_depth': 7, 'min_samples_leaf': 9, 'n_estimators': 50}\n",
      "Score: 0.8234 (+/-0.0204) for Params: {'max_depth': 7, 'min_samples_leaf': 9, 'n_estimators': 70}\n",
      "Score: 0.8197 (+/-0.019) for Params: {'max_depth': 7, 'min_samples_leaf': 9, 'n_estimators': 90}\n",
      "Score: 0.8171 (+/-0.0176) for Params: {'max_depth': 7, 'min_samples_leaf': 9, 'n_estimators': 110}\n",
      "Score: 0.7353 (+/-0.0205) for Params: {'max_depth': 7, 'min_samples_leaf': 11, 'n_estimators': 10}\n",
      "Score: 0.8344 (+/-0.025) for Params: {'max_depth': 7, 'min_samples_leaf': 11, 'n_estimators': 30}\n",
      "Score: 0.8316 (+/-0.0235) for Params: {'max_depth': 7, 'min_samples_leaf': 11, 'n_estimators': 50}\n",
      "Score: 0.8271 (+/-0.0215) for Params: {'max_depth': 7, 'min_samples_leaf': 11, 'n_estimators': 70}\n",
      "Score: 0.8237 (+/-0.0198) for Params: {'max_depth': 7, 'min_samples_leaf': 11, 'n_estimators': 90}\n",
      "Score: 0.8206 (+/-0.0192) for Params: {'max_depth': 7, 'min_samples_leaf': 11, 'n_estimators': 110}\n",
      "Score: 0.7371 (+/-0.0182) for Params: {'max_depth': 7, 'min_samples_leaf': 13, 'n_estimators': 10}\n",
      "Score: 0.8373 (+/-0.0214) for Params: {'max_depth': 7, 'min_samples_leaf': 13, 'n_estimators': 30}\n",
      "Score: 0.8356 (+/-0.0191) for Params: {'max_depth': 7, 'min_samples_leaf': 13, 'n_estimators': 50}\n",
      "Score: 0.8321 (+/-0.0186) for Params: {'max_depth': 7, 'min_samples_leaf': 13, 'n_estimators': 70}\n",
      "Score: 0.8287 (+/-0.0167) for Params: {'max_depth': 7, 'min_samples_leaf': 13, 'n_estimators': 90}\n",
      "Score: 0.8268 (+/-0.0172) for Params: {'max_depth': 7, 'min_samples_leaf': 13, 'n_estimators': 110}\n",
      "Score: 0.7108 (+/-0.0225) for Params: {'max_depth': 9, 'min_samples_leaf': 1, 'n_estimators': 10}\n",
      "Score: 0.7885 (+/-0.0423) for Params: {'max_depth': 9, 'min_samples_leaf': 1, 'n_estimators': 30}\n",
      "Score: 0.787 (+/-0.0502) for Params: {'max_depth': 9, 'min_samples_leaf': 1, 'n_estimators': 50}\n",
      "Score: 0.7858 (+/-0.0492) for Params: {'max_depth': 9, 'min_samples_leaf': 1, 'n_estimators': 70}\n",
      "Score: 0.787 (+/-0.0444) for Params: {'max_depth': 9, 'min_samples_leaf': 1, 'n_estimators': 90}\n",
      "Score: 0.7855 (+/-0.0464) for Params: {'max_depth': 9, 'min_samples_leaf': 1, 'n_estimators': 110}\n",
      "Score: 0.7355 (+/-0.0214) for Params: {'max_depth': 9, 'min_samples_leaf': 3, 'n_estimators': 10}\n",
      "Score: 0.8185 (+/-0.0257) for Params: {'max_depth': 9, 'min_samples_leaf': 3, 'n_estimators': 30}\n",
      "Score: 0.812 (+/-0.0259) for Params: {'max_depth': 9, 'min_samples_leaf': 3, 'n_estimators': 50}\n",
      "Score: 0.8082 (+/-0.0321) for Params: {'max_depth': 9, 'min_samples_leaf': 3, 'n_estimators': 70}\n",
      "Score: 0.8057 (+/-0.0315) for Params: {'max_depth': 9, 'min_samples_leaf': 3, 'n_estimators': 90}\n",
      "Score: 0.8039 (+/-0.0321) for Params: {'max_depth': 9, 'min_samples_leaf': 3, 'n_estimators': 110}\n",
      "Score: 0.7373 (+/-0.0269) for Params: {'max_depth': 9, 'min_samples_leaf': 5, 'n_estimators': 10}\n",
      "Score: 0.8314 (+/-0.0247) for Params: {'max_depth': 9, 'min_samples_leaf': 5, 'n_estimators': 30}\n",
      "Score: 0.8246 (+/-0.0265) for Params: {'max_depth': 9, 'min_samples_leaf': 5, 'n_estimators': 50}\n",
      "Score: 0.8191 (+/-0.024) for Params: {'max_depth': 9, 'min_samples_leaf': 5, 'n_estimators': 70}\n",
      "Score: 0.8161 (+/-0.0235) for Params: {'max_depth': 9, 'min_samples_leaf': 5, 'n_estimators': 90}\n",
      "Score: 0.8124 (+/-0.0252) for Params: {'max_depth': 9, 'min_samples_leaf': 5, 'n_estimators': 110}\n",
      "Score: 0.7377 (+/-0.0153) for Params: {'max_depth': 9, 'min_samples_leaf': 7, 'n_estimators': 10}\n",
      "Score: 0.8331 (+/-0.0198) for Params: {'max_depth': 9, 'min_samples_leaf': 7, 'n_estimators': 30}\n",
      "Score: 0.8278 (+/-0.0197) for Params: {'max_depth': 9, 'min_samples_leaf': 7, 'n_estimators': 50}\n",
      "Score: 0.8234 (+/-0.0145) for Params: {'max_depth': 9, 'min_samples_leaf': 7, 'n_estimators': 70}\n",
      "Score: 0.8194 (+/-0.0115) for Params: {'max_depth': 9, 'min_samples_leaf': 7, 'n_estimators': 90}\n",
      "Score: 0.8168 (+/-0.0087) for Params: {'max_depth': 9, 'min_samples_leaf': 7, 'n_estimators': 110}\n",
      "Score: 0.7372 (+/-0.0234) for Params: {'max_depth': 9, 'min_samples_leaf': 9, 'n_estimators': 10}\n",
      "Score: 0.831 (+/-0.026) for Params: {'max_depth': 9, 'min_samples_leaf': 9, 'n_estimators': 30}\n",
      "Score: 0.8269 (+/-0.0261) for Params: {'max_depth': 9, 'min_samples_leaf': 9, 'n_estimators': 50}\n",
      "Score: 0.8234 (+/-0.0234) for Params: {'max_depth': 9, 'min_samples_leaf': 9, 'n_estimators': 70}\n",
      "Score: 0.8176 (+/-0.0236) for Params: {'max_depth': 9, 'min_samples_leaf': 9, 'n_estimators': 90}\n",
      "Score: 0.8142 (+/-0.025) for Params: {'max_depth': 9, 'min_samples_leaf': 9, 'n_estimators': 110}\n",
      "Score: 0.7361 (+/-0.0209) for Params: {'max_depth': 9, 'min_samples_leaf': 11, 'n_estimators': 10}\n",
      "Score: 0.833 (+/-0.0208) for Params: {'max_depth': 9, 'min_samples_leaf': 11, 'n_estimators': 30}\n",
      "Score: 0.8283 (+/-0.0222) for Params: {'max_depth': 9, 'min_samples_leaf': 11, 'n_estimators': 50}\n",
      "Score: 0.8231 (+/-0.0208) for Params: {'max_depth': 9, 'min_samples_leaf': 11, 'n_estimators': 70}\n",
      "Score: 0.8195 (+/-0.0188) for Params: {'max_depth': 9, 'min_samples_leaf': 11, 'n_estimators': 90}\n",
      "Score: 0.8159 (+/-0.0182) for Params: {'max_depth': 9, 'min_samples_leaf': 11, 'n_estimators': 110}\n",
      "Score: 0.7365 (+/-0.0206) for Params: {'max_depth': 9, 'min_samples_leaf': 13, 'n_estimators': 10}\n",
      "Score: 0.8359 (+/-0.0223) for Params: {'max_depth': 9, 'min_samples_leaf': 13, 'n_estimators': 30}\n"
     ]
    },
    {
     "name": "stdout",
     "output_type": "stream",
     "text": [
      "Score: 0.8314 (+/-0.0222) for Params: {'max_depth': 9, 'min_samples_leaf': 13, 'n_estimators': 50}\n",
      "Score: 0.8267 (+/-0.0216) for Params: {'max_depth': 9, 'min_samples_leaf': 13, 'n_estimators': 70}\n",
      "Score: 0.8229 (+/-0.023) for Params: {'max_depth': 9, 'min_samples_leaf': 13, 'n_estimators': 90}\n",
      "Score: 0.8193 (+/-0.0232) for Params: {'max_depth': 9, 'min_samples_leaf': 13, 'n_estimators': 110}\n",
      "Score: 0.7003 (+/-0.0232) for Params: {'max_depth': 11, 'min_samples_leaf': 1, 'n_estimators': 10}\n",
      "Score: 0.7691 (+/-0.0449) for Params: {'max_depth': 11, 'min_samples_leaf': 1, 'n_estimators': 30}\n",
      "Score: 0.7677 (+/-0.0587) for Params: {'max_depth': 11, 'min_samples_leaf': 1, 'n_estimators': 50}\n",
      "Score: 0.7662 (+/-0.0574) for Params: {'max_depth': 11, 'min_samples_leaf': 1, 'n_estimators': 70}\n",
      "Score: 0.7722 (+/-0.0477) for Params: {'max_depth': 11, 'min_samples_leaf': 1, 'n_estimators': 90}\n",
      "Score: 0.762 (+/-0.0556) for Params: {'max_depth': 11, 'min_samples_leaf': 1, 'n_estimators': 110}\n",
      "Score: 0.7322 (+/-0.0214) for Params: {'max_depth': 11, 'min_samples_leaf': 3, 'n_estimators': 10}\n",
      "Score: 0.8164 (+/-0.031) for Params: {'max_depth': 11, 'min_samples_leaf': 3, 'n_estimators': 30}\n",
      "Score: 0.8099 (+/-0.0365) for Params: {'max_depth': 11, 'min_samples_leaf': 3, 'n_estimators': 50}\n",
      "Score: 0.8071 (+/-0.0367) for Params: {'max_depth': 11, 'min_samples_leaf': 3, 'n_estimators': 70}\n",
      "Score: 0.8047 (+/-0.0377) for Params: {'max_depth': 11, 'min_samples_leaf': 3, 'n_estimators': 90}\n",
      "Score: 0.8028 (+/-0.038) for Params: {'max_depth': 11, 'min_samples_leaf': 3, 'n_estimators': 110}\n",
      "Score: 0.7342 (+/-0.0312) for Params: {'max_depth': 11, 'min_samples_leaf': 5, 'n_estimators': 10}\n",
      "Score: 0.8273 (+/-0.0307) for Params: {'max_depth': 11, 'min_samples_leaf': 5, 'n_estimators': 30}\n",
      "Score: 0.8199 (+/-0.0297) for Params: {'max_depth': 11, 'min_samples_leaf': 5, 'n_estimators': 50}\n",
      "Score: 0.8154 (+/-0.0302) for Params: {'max_depth': 11, 'min_samples_leaf': 5, 'n_estimators': 70}\n",
      "Score: 0.8113 (+/-0.0322) for Params: {'max_depth': 11, 'min_samples_leaf': 5, 'n_estimators': 90}\n",
      "Score: 0.8077 (+/-0.0343) for Params: {'max_depth': 11, 'min_samples_leaf': 5, 'n_estimators': 110}\n",
      "Score: 0.7368 (+/-0.016) for Params: {'max_depth': 11, 'min_samples_leaf': 7, 'n_estimators': 10}\n",
      "Score: 0.8323 (+/-0.0176) for Params: {'max_depth': 11, 'min_samples_leaf': 7, 'n_estimators': 30}\n",
      "Score: 0.8252 (+/-0.0185) for Params: {'max_depth': 11, 'min_samples_leaf': 7, 'n_estimators': 50}\n",
      "Score: 0.8186 (+/-0.0196) for Params: {'max_depth': 11, 'min_samples_leaf': 7, 'n_estimators': 70}\n",
      "Score: 0.813 (+/-0.0168) for Params: {'max_depth': 11, 'min_samples_leaf': 7, 'n_estimators': 90}\n",
      "Score: 0.8106 (+/-0.0149) for Params: {'max_depth': 11, 'min_samples_leaf': 7, 'n_estimators': 110}\n",
      "Score: 0.7365 (+/-0.0235) for Params: {'max_depth': 11, 'min_samples_leaf': 9, 'n_estimators': 10}\n",
      "Score: 0.8302 (+/-0.0261) for Params: {'max_depth': 11, 'min_samples_leaf': 9, 'n_estimators': 30}\n",
      "Score: 0.8241 (+/-0.0245) for Params: {'max_depth': 11, 'min_samples_leaf': 9, 'n_estimators': 50}\n",
      "Score: 0.8194 (+/-0.0234) for Params: {'max_depth': 11, 'min_samples_leaf': 9, 'n_estimators': 70}\n",
      "Score: 0.8151 (+/-0.0214) for Params: {'max_depth': 11, 'min_samples_leaf': 9, 'n_estimators': 90}\n",
      "Score: 0.8119 (+/-0.0223) for Params: {'max_depth': 11, 'min_samples_leaf': 9, 'n_estimators': 110}\n",
      "Score: 0.7372 (+/-0.0214) for Params: {'max_depth': 11, 'min_samples_leaf': 11, 'n_estimators': 10}\n",
      "Score: 0.8334 (+/-0.0239) for Params: {'max_depth': 11, 'min_samples_leaf': 11, 'n_estimators': 30}\n",
      "Score: 0.8263 (+/-0.0237) for Params: {'max_depth': 11, 'min_samples_leaf': 11, 'n_estimators': 50}\n",
      "Score: 0.8212 (+/-0.0256) for Params: {'max_depth': 11, 'min_samples_leaf': 11, 'n_estimators': 70}\n",
      "Score: 0.818 (+/-0.024) for Params: {'max_depth': 11, 'min_samples_leaf': 11, 'n_estimators': 90}\n",
      "Score: 0.8146 (+/-0.0233) for Params: {'max_depth': 11, 'min_samples_leaf': 11, 'n_estimators': 110}\n",
      "Score: 0.7368 (+/-0.0199) for Params: {'max_depth': 11, 'min_samples_leaf': 13, 'n_estimators': 10}\n",
      "Score: 0.8347 (+/-0.0233) for Params: {'max_depth': 11, 'min_samples_leaf': 13, 'n_estimators': 30}\n",
      "Score: 0.8301 (+/-0.0234) for Params: {'max_depth': 11, 'min_samples_leaf': 13, 'n_estimators': 50}\n",
      "Score: 0.8232 (+/-0.0245) for Params: {'max_depth': 11, 'min_samples_leaf': 13, 'n_estimators': 70}\n",
      "Score: 0.8187 (+/-0.0251) for Params: {'max_depth': 11, 'min_samples_leaf': 13, 'n_estimators': 90}\n",
      "Score: 0.8151 (+/-0.0273) for Params: {'max_depth': 11, 'min_samples_leaf': 13, 'n_estimators': 110}\n"
     ]
    }
   ],
   "source": [
    "gb = GradientBoostingRegressor()\n",
    "parameters = {\n",
    "    'n_estimators': np.arange(10, 120, 20),\n",
    "    'max_depth': np.arange(1, 13, 2),\n",
    "    'min_samples_leaf': np.arange(1, 15, 2, int),\n",
    "}\n",
    "\n",
    "CV_4 = GridSearchCV(gb, parameters, cv=5, iid=False)\n",
    "CV_4.fit(X_train, y_train.values.ravel())\n",
    "\n",
    "print_best_score(CV_4)"
   ]
  },
  {
   "cell_type": "code",
   "execution_count": 23,
   "metadata": {},
   "outputs": [
    {
     "data": {
      "text/plain": [
       "GradientBoostingRegressor(alpha=0.9, criterion='friedman_mse', init=None,\n",
       "                          learning_rate=0.1, loss='ls', max_depth=3,\n",
       "                          max_features=None, max_leaf_nodes=None,\n",
       "                          min_impurity_decrease=0.0, min_impurity_split=None,\n",
       "                          min_samples_leaf=3, min_samples_split=2,\n",
       "                          min_weight_fraction_leaf=0.0, n_estimators=50,\n",
       "                          n_iter_no_change=None, presort='auto',\n",
       "                          random_state=None, subsample=1.0, tol=0.0001,\n",
       "                          validation_fraction=0.1, verbose=0, warm_start=False)"
      ]
     },
     "execution_count": 23,
     "metadata": {},
     "output_type": "execute_result"
    }
   ],
   "source": [
    "GB = CV_4.best_estimator_\n",
    "GB"
   ]
  },
  {
   "cell_type": "markdown",
   "metadata": {},
   "source": [
    "## Evaluation of best models on validation dataset"
   ]
  },
  {
   "cell_type": "code",
   "execution_count": 24,
   "metadata": {},
   "outputs": [],
   "source": [
    "mdl_names = ['LR', 'MLP', 'DT', 'RF', 'GB']\n",
    "mdl_list = [LR, MLP, DT, RF, GB]\n",
    "models = dict(zip(mdl_names, mdl_list))"
   ]
  },
  {
   "cell_type": "code",
   "execution_count": 25,
   "metadata": {},
   "outputs": [],
   "source": [
    "def evaluate_model(name, model, features, target):\n",
    "    start = time()\n",
    "    pred = model.predict(features)\n",
    "    end = time()\n",
    "    r2 = round(r2_score(target, pred), 4)\n",
    "    mae = round(mean_absolute_error(target, pred), 2)\n",
    "    medae = round(median_absolute_error(target, pred), 2)\n",
    "    print('{} -- R2 Score: {} / MAE: {} / MedAE: {} / Latency: {}ms'.format(name, \n",
    "                                                                            r2, \n",
    "                                                                            mae, \n",
    "                                                                            medae, \n",
    "                                                                            round((end - start)*1000, 1)))"
   ]
  },
  {
   "cell_type": "code",
   "execution_count": 26,
   "metadata": {},
   "outputs": [
    {
     "name": "stdout",
     "output_type": "stream",
     "text": [
      "LR -- R2 Score: 0.7139 / MAE: 4179.57 / MedAE: 2785.77 / Latency: 0.0ms\n",
      "MLP -- R2 Score: 0.8096 / MAE: 2979.49 / MedAE: 1581.12 / Latency: 104.2ms\n",
      "DT -- R2 Score: 0.8351 / MAE: 2622.11 / MedAE: 1742.41 / Latency: 0.0ms\n",
      "RF -- R2 Score: 0.8415 / MAE: 2509.42 / MedAE: 1597.56 / Latency: 26.0ms\n",
      "GB -- R2 Score: 0.8442 / MAE: 2495.53 / MedAE: 1521.99 / Latency: 1.0ms\n"
     ]
    }
   ],
   "source": [
    "for name, mdl in models.items():\n",
    "    evaluate_model(name, mdl, X_val, y_val)"
   ]
  },
  {
   "cell_type": "markdown",
   "metadata": {},
   "source": [
    "## Final model evaluation on test dataset"
   ]
  },
  {
   "cell_type": "code",
   "execution_count": 27,
   "metadata": {},
   "outputs": [
    {
     "name": "stdout",
     "output_type": "stream",
     "text": [
      "Gradient Boosting -- R2 Score: 0.8929 / MAE: 2292.25 / MedAE: 1465.38 / Latency: 1.0ms\n"
     ]
    }
   ],
   "source": [
    "evaluate_model('Gradient Boosting', models['GB'], X_test, y_test)"
   ]
  },
  {
   "cell_type": "code",
   "execution_count": null,
   "metadata": {},
   "outputs": [],
   "source": []
  }
 ],
 "metadata": {
  "kernelspec": {
   "display_name": "Python 3",
   "language": "python",
   "name": "python3"
  },
  "language_info": {
   "codemirror_mode": {
    "name": "ipython",
    "version": 3
   },
   "file_extension": ".py",
   "mimetype": "text/x-python",
   "name": "python",
   "nbconvert_exporter": "python",
   "pygments_lexer": "ipython3",
   "version": "3.7.3"
  }
 },
 "nbformat": 4,
 "nbformat_minor": 2
}
